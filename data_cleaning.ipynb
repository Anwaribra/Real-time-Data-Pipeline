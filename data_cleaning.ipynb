{
 "cells": [
  {
   "cell_type": "code",
   "execution_count": 1,
   "metadata": {},
   "outputs": [],
   "source": [
    "import pandas as pd        \n",
    "import numpy as np        \n",
    "import matplotlib.pyplot as plt  \n",
    "import seaborn as sns      \n",
    "import plotly.express as px \n",
    "# import folium    # Geospatial visualizations"
   ]
  },
  {
   "cell_type": "code",
   "execution_count": null,
   "metadata": {},
   "outputs": [
    {
     "name": "stdout",
     "output_type": "stream",
     "text": [
      "Converted historical_EUR_EGP.json to historical_EUR_EGP.csv\n",
      "Converted historical_EUR_USD.json to historical_EUR_USD.csv\n",
      "Converted historical_USD_EGP.json to historical_USD_EGP.csv\n",
      "All JSON files converted to CSV successfully!\n"
     ]
    }
   ],
   "source": [
    "data_folder = \"data\"\n",
    "\n",
    "json_files = [f for f in os.listdir(data_folder) if f.endswith(\".json\")]\n",
    "\n",
    "\n",
    "for json_file in json_files:\n",
    "    json_path = os.path.join(data_folder, json_file)\n",
    "    \n",
    "    \n",
    "    with open(json_path, \"r\") as file:\n",
    "        data = json.load(file)\n",
    "    \n",
    "    forex_data = data.get(\"Time Series FX (Daily)\", {})\n",
    "    \n",
    "    df = pd.DataFrame.from_dict(forex_data, orient=\"index\")\n",
    "    df.index.name = \"Date\"\n",
    "    \n",
    "    df.columns = [\"Open\", \"High\", \"Low\", \"Close\"]\n",
    "    df = df.astype(float)\n",
    "    \n",
    "    csv_filename = json_file.replace(\".json\", \".csv\")\n",
    "    csv_path = os.path.join(data_folder, csv_filename)\n",
    "    \n",
    "    df.to_csv(csv_path)\n",
    "    \n",
    "    print(f\"Converted {json_file} to {csv_filename}\")\n",
    "\n",
    "print(\"All JSON files converted to CSV successfully!\")\n"
   ]
  },
  {
   "cell_type": "code",
   "execution_count": 8,
   "metadata": {},
   "outputs": [
    {
     "data": {
      "text/html": [
       "<div>\n",
       "<style scoped>\n",
       "    .dataframe tbody tr th:only-of-type {\n",
       "        vertical-align: middle;\n",
       "    }\n",
       "\n",
       "    .dataframe tbody tr th {\n",
       "        vertical-align: top;\n",
       "    }\n",
       "\n",
       "    .dataframe thead th {\n",
       "        text-align: right;\n",
       "    }\n",
       "</style>\n",
       "<table border=\"1\" class=\"dataframe\">\n",
       "  <thead>\n",
       "    <tr style=\"text-align: right;\">\n",
       "      <th></th>\n",
       "      <th>Open</th>\n",
       "      <th>High</th>\n",
       "      <th>Low</th>\n",
       "      <th>Close</th>\n",
       "    </tr>\n",
       "    <tr>\n",
       "      <th>Date</th>\n",
       "      <th></th>\n",
       "      <th></th>\n",
       "      <th></th>\n",
       "      <th></th>\n",
       "    </tr>\n",
       "  </thead>\n",
       "  <tbody>\n",
       "    <tr>\n",
       "      <th>2025-03-07</th>\n",
       "      <td>50.63</td>\n",
       "      <td>50.640</td>\n",
       "      <td>50.63</td>\n",
       "      <td>50.63</td>\n",
       "    </tr>\n",
       "    <tr>\n",
       "      <th>2025-03-06</th>\n",
       "      <td>50.62</td>\n",
       "      <td>50.630</td>\n",
       "      <td>50.62</td>\n",
       "      <td>50.63</td>\n",
       "    </tr>\n",
       "    <tr>\n",
       "      <th>2025-03-05</th>\n",
       "      <td>50.58</td>\n",
       "      <td>50.700</td>\n",
       "      <td>50.53</td>\n",
       "      <td>50.62</td>\n",
       "    </tr>\n",
       "    <tr>\n",
       "      <th>2025-03-04</th>\n",
       "      <td>50.60</td>\n",
       "      <td>50.680</td>\n",
       "      <td>50.54</td>\n",
       "      <td>50.59</td>\n",
       "    </tr>\n",
       "    <tr>\n",
       "      <th>2025-03-03</th>\n",
       "      <td>50.60</td>\n",
       "      <td>50.661</td>\n",
       "      <td>50.54</td>\n",
       "      <td>50.60</td>\n",
       "    </tr>\n",
       "  </tbody>\n",
       "</table>\n",
       "</div>"
      ],
      "text/plain": [
       "             Open    High    Low  Close\n",
       "Date                                   \n",
       "2025-03-07  50.63  50.640  50.63  50.63\n",
       "2025-03-06  50.62  50.630  50.62  50.63\n",
       "2025-03-05  50.58  50.700  50.53  50.62\n",
       "2025-03-04  50.60  50.680  50.54  50.59\n",
       "2025-03-03  50.60  50.661  50.54  50.60"
      ]
     },
     "execution_count": 8,
     "metadata": {},
     "output_type": "execute_result"
    }
   ],
   "source": [
    "df.head()"
   ]
  }
 ],
 "metadata": {
  "kernelspec": {
   "display_name": "base",
   "language": "python",
   "name": "python3"
  },
  "language_info": {
   "codemirror_mode": {
    "name": "ipython",
    "version": 3
   },
   "file_extension": ".py",
   "mimetype": "text/x-python",
   "name": "python",
   "nbconvert_exporter": "python",
   "pygments_lexer": "ipython3",
   "version": "3.11.3"
  }
 },
 "nbformat": 4,
 "nbformat_minor": 2
}
