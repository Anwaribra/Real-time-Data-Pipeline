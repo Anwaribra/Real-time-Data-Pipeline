{
  "nbformat": 4,
  "nbformat_minor": 0,
  "metadata": {
    "colab": {
      "provenance": []
    },
    "kernelspec": {
      "name": "python3",
      "display_name": "Python 3"
    },
    "language_info": {
      "name": "python"
    }
  },
  "cells": [
    {
      "cell_type": "code",
      "execution_count": null,
      "metadata": {
        "id": "s4ckgCtjS2nG"
      },
      "outputs": [],
      "source": [
        "!pip install snowflake-connector-python pandas"
      ]
    },
    {
      "cell_type": "code",
      "source": [
        "import snowflake.connector"
      ],
      "metadata": {
        "id": "Jq3cHsudS6BT"
      },
      "execution_count": null,
      "outputs": []
    },
    {
      "cell_type": "code",
      "source": [
        "conn = snowflake.connector.connect(\n",
        "    user='ABDELRAHMAN1ZAID1',\n",
        "    password='!6z:8MUULDpAXi!',\n",
        "    account='DRTSSDW-CB27875',  # e.g. 'xy12345.east-us-2.azure'\n",
        "    warehouse='COMPUTE_WH',\n",
        "    database='FOREX_RATES',\n",
        "    schema='PUBLIC'\n",
        ")"
      ],
      "metadata": {
        "id": "6XDUQ1DNS5-7"
      },
      "execution_count": null,
      "outputs": []
    },
    {
      "cell_type": "code",
      "source": [
        "import pandas as pd"
      ],
      "metadata": {
        "id": "Wuqf8RsWS58i"
      },
      "execution_count": null,
      "outputs": []
    },
    {
      "cell_type": "code",
      "source": [
        "query = \"SHOW TABLES\"\n",
        "tables_df = pd.read_sql(query, conn)\n",
        "print(tables_df[['name', 'database_name', 'schema_name']])"
      ],
      "metadata": {
        "id": "2Pp7Qvo3S56k"
      },
      "execution_count": null,
      "outputs": []
    },
    {
      "cell_type": "code",
      "source": [
        "import pandas as pd\n",
        "\n",
        "# Example: loading \"FOREX_EUR_USD\" from the \"FOREX_DATA\" database and \"BRONZE\" schema\n",
        "query = \"SELECT * FROM FOREX_DATA.SILVER.FOREX_RATES\"\n",
        "df = pd.read_sql(query, conn)\n",
        "\n",
        "\n",
        "# Preview the data\n",
        "print(df.head())\n"
      ],
      "metadata": {
        "id": "yEs7wYA0S54T"
      },
      "execution_count": null,
      "outputs": []
    },
    {
      "cell_type": "code",
      "source": [
        "df"
      ],
      "metadata": {
        "id": "UXtlaxvGS52C"
      },
      "execution_count": null,
      "outputs": []
    },
    {
      "cell_type": "code",
      "source": [
        "df = df.rename(columns={'OPEN_RATE': 'Open', 'HIGH_RATE': 'High','LOW_RATE':'Low','CLOSE_RATE':'Close'})"
      ],
      "metadata": {
        "id": "Xycsgge2S5zy"
      },
      "execution_count": null,
      "outputs": []
    },
    {
      "cell_type": "code",
      "source": [
        "df"
      ],
      "metadata": {
        "id": "yDgZJsHVTDBM"
      },
      "execution_count": null,
      "outputs": []
    },
    {
      "cell_type": "markdown",
      "source": [
        "# Machine Learning Model"
      ],
      "metadata": {
        "id": "Z4lv1dv-6ch1"
      }
    },
    {
      "cell_type": "code",
      "source": [
        "!pip install pandas numpy ta lightgbm plotly scikit-learn"
      ],
      "metadata": {
        "id": "bK-ENB-UTC-z"
      },
      "execution_count": null,
      "outputs": []
    },
    {
      "cell_type": "code",
      "source": [
        "import pandas as pd\n",
        "import numpy as np\n",
        "import plotly.graph_objects as go\n",
        "import ta\n",
        "from sklearn.model_selection import train_test_split\n",
        "from sklearn.metrics import accuracy_score\n",
        "import lightgbm as lgb"
      ],
      "metadata": {
        "id": "zlrcHeUHTC8z"
      },
      "execution_count": null,
      "outputs": []
    },
    {
      "cell_type": "code",
      "source": [
        "# Step 1: Load Data\n",
        "df['DATE'] = pd.to_datetime(df['DATE'])\n",
        "df.sort_values('DATE', inplace=True)\n",
        "df.reset_index(drop=True, inplace=True)"
      ],
      "metadata": {
        "id": "SC4T_ZnFTC6r"
      },
      "execution_count": null,
      "outputs": []
    },
    {
      "cell_type": "code",
      "source": [
        "# Step 2: Feature Engineering\n",
        "df['HL'] = df['High'] - df['Low']\n",
        "df['OC'] = df['Close'] - df['Open']\n",
        "df['BODY'] = abs(df['Close'] - df['Open'])"
      ],
      "metadata": {
        "id": "1CQ-Eip_TC4j"
      },
      "execution_count": null,
      "outputs": []
    },
    {
      "cell_type": "code",
      "source": [
        "# Technical indicators\n",
        "df['RSI'] = ta.momentum.RSIIndicator(df['Close'], window=14).rsi()\n",
        "df['EMA_12'] = ta.trend.ema_indicator(df['Close'], window=12)\n",
        "df['EMA_26'] = ta.trend.ema_indicator(df['Close'], window=26)\n",
        "df['MACD'] = df['EMA_12'] - df['EMA_26']\n",
        "bb = ta.volatility.BollingerBands(df['Close'])\n",
        "df['BB_HIGH'] = bb.bollinger_hband()\n",
        "df['BB_LOW'] = bb.bollinger_lband()\n",
        "df['STOCH'] = ta.momentum.StochasticOscillator(df['High'], df['Low'], df['Close']).stoch()\n"
      ],
      "metadata": {
        "id": "nbbz19-86lI9"
      },
      "execution_count": null,
      "outputs": []
    },
    {
      "cell_type": "code",
      "source": [
        "# Rolling features\n",
        "for window in [3, 5, 10]:\n",
        "    df[f'CLOSE_ROLL_MEAN_{window}'] = df['Close'].rolling(window).mean()\n",
        "    df[f'CLOSE_ROLL_STD_{window}'] = df['Close'].rolling(window).std()\n",
        "    df[f'HL_ROLL_MEAN_{window}'] = df['HL'].rolling(window).mean()\n",
        "    df[f'OC_ROLL_MEAN_{window}'] = df['OC'].rolling(window).mean()"
      ],
      "metadata": {
        "id": "ddquQu8r6lGf"
      },
      "execution_count": null,
      "outputs": []
    },
    {
      "cell_type": "code",
      "source": [
        "# Time features\n",
        "df['HOUR'] = df['DATE'].dt.hour\n",
        "df['DAY_OF_WEEK'] = df['DATE'].dt.dayofweek"
      ],
      "metadata": {
        "id": "g9h0ClAR6lDw"
      },
      "execution_count": null,
      "outputs": []
    },
    {
      "cell_type": "code",
      "source": [
        "# -----------------------------\n",
        "# Step 3: Candlestick Pattern Features\n",
        "# -----------------------------\n",
        "df['IS_BULLISH'] = (df['Close'] > df['Open']).astype(int)\n",
        "df['IS_BEARISH'] = (df['Close'] < df['Open']).astype(int)\n",
        "df['IS_DOJI'] = (abs(df['Close'] - df['Open']) < (df['High'] - df['Low']) * 0.1).astype(int)\n",
        "\n",
        "df['BODY'] = abs(df['Close'] - df['Open'])\n",
        "\n",
        "df['IS_HAMMER'] = ((df['High'] - df['Low']) > 3 * df['BODY']) & \\\n",
        "                  ((df['Close'] - df['Low']) / (df['High'] - df['Low'] + 1e-9) > 0.6) & \\\n",
        "                  ((df['Open'] - df['Low']) / (df['High'] - df['Low'] + 1e-9) > 0.6)\n",
        "df['IS_HAMMER'] = df['IS_HAMMER'].astype(int)\n",
        "\n",
        "df['IS_INV_HAMMER'] = ((df['High'] - df['Low']) > 3 * df['BODY']) & \\\n",
        "                      ((df['High'] - df['Close']) / (df['High'] - df['Low'] + 1e-9) > 0.6) & \\\n",
        "                      ((df['High'] - df['Open']) / (df['High'] - df['Low'] + 1e-9) > 0.6)\n",
        "df['IS_INV_HAMMER'] = df['IS_INV_HAMMER'].astype(int)\n",
        "\n",
        "df['PREV_OPEN'] = df['Open'].shift(1)\n",
        "df['PREV_CLOSE'] = df['Close'].shift(1)\n",
        "\n",
        "df['BULLISH_ENGULFING'] = ((df['IS_BULLISH'] == 1) &\n",
        "                           (df['PREV_CLOSE'] < df['PREV_OPEN']) &\n",
        "                           (df['Open'] < df['PREV_CLOSE']) &\n",
        "                           (df['Close'] > df['PREV_OPEN'])).astype(int)\n",
        "\n",
        "df['BEARISH_ENGULFING'] = ((df['IS_BEARISH'] == 1) &\n",
        "                           (df['PREV_CLOSE'] > df['PREV_OPEN']) &\n",
        "                           (df['Open'] > df['PREV_CLOSE']) &\n",
        "                           (df['Close'] < df['PREV_OPEN'])).astype(int)\n",
        "\n",
        "\n"
      ],
      "metadata": {
        "id": "Bq9bex406lBJ"
      },
      "execution_count": null,
      "outputs": []
    },
    {
      "cell_type": "code",
      "source": [
        "df"
      ],
      "metadata": {
        "id": "qxbatXGb7qJ6"
      },
      "execution_count": null,
      "outputs": []
    },
    {
      "cell_type": "code",
      "source": [
        "import plotly.graph_objects as go\n",
        "\n",
        "# Step 6: Visualization\n",
        "# -----------------------------\n",
        "plot_df = df[-200:].copy()\n",
        "\n",
        "fig = go.Figure(data=[\n",
        "    go.Candlestick(\n",
        "        x=plot_df['DATE'],\n",
        "        open=plot_df['Open'],  # Updated column names\n",
        "        high=plot_df['High'],  # Updated column names\n",
        "        low=plot_df['Low'],    # Updated column names\n",
        "        close=plot_df['Close'], # Updated column names\n",
        "        name=\"OHLC\"\n",
        "    )\n",
        "])\n",
        "\n",
        "# Add markers for patterns\n",
        "def add_marker(condition, name, color, y_offset=0):\n",
        "    dates = plot_df[condition]['DATE']\n",
        "    prices = plot_df[condition]['High'] + y_offset  # Use High for marker placement\n",
        "    fig.add_trace(go.Scatter(\n",
        "        x=dates,\n",
        "        y=prices,\n",
        "        mode='markers',\n",
        "        marker=dict(size=8, color=color),\n",
        "        name=name\n",
        "    ))\n",
        "\n",
        "add_marker(plot_df['IS_DOJI'] == 1, 'Doji', 'orange')\n",
        "add_marker(plot_df['IS_HAMMER'] == 1, 'Hammer', 'green')\n",
        "add_marker(plot_df['IS_INV_HAMMER'] == 1, 'Inv Hammer', 'blue')\n",
        "add_marker(plot_df['BULLISH_ENGULFING'] == 1, 'Bull Engulfing', 'lime')\n",
        "add_marker(plot_df['BEARISH_ENGULFING'] == 1, 'Bear Engulfing', 'red')\n",
        "\n",
        "fig.update_layout(\n",
        "    title='Forex Candlestick Patterns with ML Features',\n",
        "    xaxis_title='Date',\n",
        "    yaxis_title='Price',\n",
        "    xaxis_rangeslider_visible=True,  # Enabling range slider for time filtering\n",
        "    xaxis_rangeslider_thickness=0.1,  # Adjust thickness of the slider\n",
        "    xaxis=dict(\n",
        "        rangeslider=dict(visible=True),\n",
        "        type='date'  # Ensure date type for x-axis\n",
        "    ),\n",
        "    height=700\n",
        ")\n",
        "\n",
        "fig.show()"
      ],
      "metadata": {
        "id": "PO_vgY3KALLQ"
      },
      "execution_count": null,
      "outputs": []
    },
    {
      "cell_type": "code",
      "source": [
        "# Drop non-numeric and irrelevant columns before training\n",
        "exclude_cols = ['DATE', 'TARGET', 'CURRENCY_PAIR'] if 'CURRENCY_PAIR' in df.columns else ['DATE', 'TARGET']\n",
        "features = [col for col in df.columns if col not in exclude_cols]\n"
      ],
      "metadata": {
        "id": "pXs-bpZZ7vKT"
      },
      "execution_count": null,
      "outputs": []
    },
    {
      "cell_type": "code",
      "source": [
        "# -----------------------------\n",
        "# Step 4: Create Target Variable\n",
        "# -----------------------------\n",
        "df['TARGET'] = (df['Close'].shift(-1) > df['Close']).astype(int)\n",
        "df.dropna(inplace=True)"
      ],
      "metadata": {
        "id": "yjI9Ftqi69uv"
      },
      "execution_count": null,
      "outputs": []
    },
    {
      "cell_type": "code",
      "source": [
        "# Drop rows with NaNs (just in case)\n",
        "df.dropna(inplace=True)\n",
        "\n",
        "# Remove DATE and other non-numeric columns explicitly\n",
        "non_numeric_cols = df.select_dtypes(include=['datetime64[ns]', 'object']).columns.tolist()\n",
        "non_features = non_numeric_cols + ['TARGET']\n",
        "features = [col for col in df.columns if col not in non_features]\n",
        "\n",
        "# Confirm all feature columns are numeric\n",
        "X = df[features].select_dtypes(include=[np.number])\n",
        "y = df['TARGET']\n",
        "\n",
        "\n"
      ],
      "metadata": {
        "id": "0ovbuYLN-P-q"
      },
      "execution_count": null,
      "outputs": []
    },
    {
      "cell_type": "code",
      "source": [
        "# Split data\n",
        "split_idx = int(len(df) * 0.8)\n",
        "X_train, X_test = X.iloc[:split_idx], X.iloc[split_idx:]\n",
        "y_train, y_test = y.iloc[:split_idx], y.iloc[split_idx:]\n",
        "\n"
      ],
      "metadata": {
        "id": "4gyXsIS77LeM"
      },
      "execution_count": null,
      "outputs": []
    },
    {
      "cell_type": "code",
      "source": [
        "# Time-based split\n",
        "split_idx = int(len(df) * 0.8)\n",
        "X_train, X_test = X.iloc[:split_idx], X.iloc[split_idx:]\n",
        "y_train, y_test = y.iloc[:split_idx], y.iloc[split_idx:]"
      ],
      "metadata": {
        "id": "YmKgViwz7Lbn"
      },
      "execution_count": null,
      "outputs": []
    },
    {
      "cell_type": "code",
      "source": [
        "# Train LightGBM model\n",
        "model = lgb.LGBMClassifier(n_estimators=100, learning_rate=0.05)\n",
        "model.fit(X_train, y_train)"
      ],
      "metadata": {
        "id": "hyHWsdqw7LZB"
      },
      "execution_count": null,
      "outputs": []
    },
    {
      "cell_type": "code",
      "source": [
        "# Evaluation\n",
        "y_pred = model.predict(X_test)\n",
        "acc = accuracy_score(y_test, y_pred)\n",
        "print(f\"Model Test Accuracy: {acc:.2%}\")"
      ],
      "metadata": {
        "id": "pmvb86NF8G2J"
      },
      "execution_count": null,
      "outputs": []
    },
    {
      "cell_type": "code",
      "source": [
        "import lightgbm as lgb\n",
        "from sklearn.metrics import accuracy_score, classification_report, confusion_matrix\n",
        "import seaborn as sns\n",
        "import matplotlib.pyplot as plt\n",
        "\n",
        "model = lgb.LGBMClassifier(n_estimators=100, learning_rate=0.05)\n",
        "model.fit(X_train, y_train)\n",
        "\n",
        "# Predict\n",
        "y_pred = model.predict(X_test)\n",
        "\n",
        "# Evaluate\n",
        "print(\"Accuracy:\", accuracy_score(y_test, y_pred))\n",
        "print(classification_report(y_test, y_pred))\n",
        "sns.heatmap(confusion_matrix(y_test, y_pred), annot=True, fmt='d', cmap='Blues')\n",
        "plt.title(\"Confusion Matrix\")\n",
        "plt.show()"
      ],
      "metadata": {
        "id": "nJBArNea_Q83"
      },
      "execution_count": null,
      "outputs": []
    },
    {
      "cell_type": "markdown",
      "source": [
        "#Evaluating Other Models"
      ],
      "metadata": {
        "id": "vtmz-hDW_hPN"
      }
    },
    {
      "cell_type": "code",
      "source": [
        "from sklearn.ensemble import RandomForestClassifier, VotingClassifier\n",
        "from sklearn.linear_model import LogisticRegression\n",
        "from xgboost import XGBClassifier\n",
        "from sklearn.preprocessing import StandardScaler\n",
        "from sklearn.metrics import accuracy_score, classification_report, confusion_matrix\n",
        "from sklearn.model_selection import train_test_split, cross_val_score\n",
        "import seaborn as sns\n",
        "import matplotlib.pyplot as plt"
      ],
      "metadata": {
        "id": "olhVvMC3_0sz"
      },
      "execution_count": null,
      "outputs": []
    },
    {
      "cell_type": "code",
      "source": [
        "# Scale data for Logistic Regression\n",
        "scaler = StandardScaler()\n",
        "X_train_scaled = scaler.fit_transform(X_train)\n",
        "X_test_scaled = scaler.transform(X_test)"
      ],
      "metadata": {
        "id": "zauPP9tR_jdL"
      },
      "execution_count": null,
      "outputs": []
    },
    {
      "cell_type": "code",
      "source": [
        "# Step 2: Train Multiple Models\n",
        "# -----------------------------\n",
        "models = {\n",
        "    'Random Forest': RandomForestClassifier(n_estimators=100, random_state=42),\n",
        "    'XGBoost': XGBClassifier(n_estimators=100, learning_rate=0.05, use_label_encoder=False, eval_metric='logloss'),\n",
        "    'Logistic Regression': LogisticRegression(max_iter=1000),\n",
        "    'LightGBM': lgb.LGBMClassifier(n_estimators=100, learning_rate=0.05),\n",
        "    'Voting (all)': VotingClassifier(estimators=[\n",
        "        ('rf', RandomForestClassifier(n_estimators=100, random_state=42)),\n",
        "        ('xgb', XGBClassifier(n_estimators=100, learning_rate=0.05, use_label_encoder=False, eval_metric='logloss')),\n",
        "        ('lr', LogisticRegression(max_iter=1000)),\n",
        "    ], voting='hard')\n",
        "}\n",
        "\n",
        "for name, model in models.items():\n",
        "    print(f\"\\nTraining {name}\")\n",
        "    if name == 'Logistic Regression':\n",
        "        model.fit(X_train_scaled, y_train)\n",
        "        y_pred = model.predict(X_test_scaled)\n",
        "    else:\n",
        "        model.fit(X_train, y_train)\n",
        "        y_pred = model.predict(X_test)\n",
        "\n",
        "    print(f\"Accuracy: {accuracy_score(y_test, y_pred):.4f}\")\n",
        "    print(classification_report(y_test, y_pred))\n",
        "    sns.heatmap(confusion_matrix(y_test, y_pred), annot=True, fmt='d', cmap='Blues')\n",
        "    plt.title(f\"{name} - Confusion Matrix\")\n",
        "    plt.show()"
      ],
      "metadata": {
        "id": "4LxFqhN0_meK"
      },
      "execution_count": null,
      "outputs": []
    },
    {
      "cell_type": "markdown",
      "source": [
        "# The Best Model Is Logistic Regression"
      ],
      "metadata": {
        "id": "nnF8e3wSBCE3"
      }
    },
    {
      "cell_type": "code",
      "source": [
        "model=LogisticRegression(max_iter=1000)\n",
        "model.fit(X_train_scaled, y_train)\n",
        "y_pred = model.predict(X_test_scaled)"
      ],
      "metadata": {
        "id": "T0WL32NH_mcF"
      },
      "execution_count": null,
      "outputs": []
    },
    {
      "cell_type": "code",
      "source": [
        "from sklearn.model_selection import GridSearchCV\n",
        "\n",
        "param_grid = {'C': [0.01, 0.1, 1, 10, 100]}\n",
        "grid_search = GridSearchCV(LogisticRegression(max_iter=1000), param_grid, cv=5)\n",
        "grid_search.fit(X_train_scaled, y_train)\n",
        "\n",
        "print(\"Best hyperparameters:\", grid_search.best_params_)\n"
      ],
      "metadata": {
        "id": "9IxCuiA1_mZ5"
      },
      "execution_count": null,
      "outputs": []
    },
    {
      "cell_type": "code",
      "source": [
        "model=LogisticRegression(max_iter=1000,C =100)\n",
        "model.fit(X_train_scaled, y_train)"
      ],
      "metadata": {
        "id": "negUr0ngCW7h"
      },
      "execution_count": null,
      "outputs": []
    },
    {
      "cell_type": "code",
      "source": [
        "X_scaled = scaler.fit_transform(X)"
      ],
      "metadata": {
        "id": "1IjZ3zMaCqnX"
      },
      "execution_count": null,
      "outputs": []
    },
    {
      "cell_type": "code",
      "source": [
        "from sklearn.model_selection import cross_val_score\n",
        "\n",
        "cv_scores = cross_val_score(model, X_scaled, y, cv=5)\n",
        "print(\"Cross-validation scores:\", cv_scores)"
      ],
      "metadata": {
        "id": "hSYKu55n_mVT"
      },
      "execution_count": null,
      "outputs": []
    },
    {
      "cell_type": "code",
      "source": [
        "predictions = model.predict(X_test_scaled)"
      ],
      "metadata": {
        "id": "iQqcVcuJ_mS2"
      },
      "execution_count": null,
      "outputs": []
    },
    {
      "cell_type": "code",
      "source": [
        "predictions[:5]"
      ],
      "metadata": {
        "id": "61dwACt8C-NY"
      },
      "execution_count": null,
      "outputs": []
    },
    {
      "cell_type": "markdown",
      "source": [
        "---> This Predict Candles Direction Up Or Down"
      ],
      "metadata": {
        "id": "X_ChphTJDXwk"
      }
    },
    {
      "cell_type": "markdown",
      "source": [
        "#Model Deployment"
      ],
      "metadata": {
        "id": "cgExWGzuDq6F"
      }
    },
    {
      "cell_type": "code",
      "source": [
        "!pip install streamlit pyngrok joblib"
      ],
      "metadata": {
        "id": "wNJ1X-sSEEZA"
      },
      "execution_count": null,
      "outputs": []
    },
    {
      "cell_type": "code",
      "source": [
        "import joblib\n",
        "\n",
        "# Save the model to a file\n",
        "joblib.dump(model, 'logistic_regression_model.pkl')"
      ],
      "metadata": {
        "id": "RsmPoVZ_Dcs7"
      },
      "execution_count": null,
      "outputs": []
    },
    {
      "cell_type": "code",
      "source": [
        "%%writefile app.py\n",
        "import streamlit as st\n",
        "import joblib\n",
        "import numpy as np\n",
        "\n",
        "# Load the trained model\n",
        "model = joblib.load('logistic_regression_model.pkl')\n",
        "\n",
        "# Title of the web app\n",
        "st.title('Logistic Regression Model Prediction')\n",
        "\n",
        "# Add some text input for the user to enter data\n",
        "st.write(\"Enter features for prediction:\")\n",
        "\n",
        "# Define input fields for the features\n",
        "feature1 = st.number_input('Feature 1', value=0.5)\n",
        "feature2 = st.number_input('Feature 2', value=1.2)\n",
        "feature3 = st.number_input('Feature 3', value=3.4)\n",
        "feature4 = st.number_input('Feature 4', value=0.6)\n",
        "\n",
        "# Prepare input for the model\n",
        "features = np.array([[feature1, feature2, feature3, feature4]])\n",
        "\n",
        "# Predict the label when the user clicks the button\n",
        "if st.button('Make Prediction'):\n",
        "    prediction = model.predict(features)\n",
        "    st.write(f'The predicted label is: {prediction[0]}')\n"
      ],
      "metadata": {
        "id": "1ho8jfV9DsyP"
      },
      "execution_count": null,
      "outputs": []
    },
    {
      "cell_type": "code",
      "source": [
        "!ngrok authtoken 2vxwvf2Iffxoxn3jRlT1i1ATQMV_2MrsQGhiMnNECHz8rfePK"
      ],
      "metadata": {
        "id": "-bcJHA76FcDM"
      },
      "execution_count": null,
      "outputs": []
    },
    {
      "cell_type": "code",
      "source": [
        "from pyngrok import ngrok\n",
        "\n",
        "# Start the ngrok tunnel for streamlit\n",
        "public_url = ngrok.connect(port='8501', proto='http')\n",
        "print(f\"Streamlit app is live at: {public_url}\")"
      ],
      "metadata": {
        "id": "AaOBOdUuDsw4"
      },
      "execution_count": null,
      "outputs": []
    },
    {
      "cell_type": "code",
      "source": [
        "!streamlit run app.py\n"
      ],
      "metadata": {
        "id": "2ZqS4yxwDsvZ"
      },
      "execution_count": null,
      "outputs": []
    },
    {
      "cell_type": "code",
      "source": [],
      "metadata": {
        "id": "u_G_aE77EHFW"
      },
      "execution_count": null,
      "outputs": []
    },
    {
      "cell_type": "code",
      "source": [],
      "metadata": {
        "id": "eiVqOxrXEHC4"
      },
      "execution_count": null,
      "outputs": []
    },
    {
      "cell_type": "code",
      "source": [],
      "metadata": {
        "id": "Kp5oL29zEHAx"
      },
      "execution_count": null,
      "outputs": []
    }
  ]
}