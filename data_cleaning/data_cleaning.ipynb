{
 "cells": [
  {
   "cell_type": "code",
   "execution_count": 8,
   "id": "c2db03d7",
   "metadata": {
    "execution": {
     "iopub.execute_input": "2025-03-22T21:38:39.547737Z",
     "iopub.status.busy": "2025-03-22T21:38:39.521218Z",
     "iopub.status.idle": "2025-03-22T21:38:41.092362Z",
     "shell.execute_reply": "2025-03-22T21:38:41.083711Z"
    },
    "jupyter": {
     "source_hidden": true
    },
    "papermill": {
     "duration": 1.624557,
     "end_time": "2025-03-22T21:38:41.094158",
     "exception": true,
     "start_time": "2025-03-22T21:38:39.469601",
     "status": "failed"
    },
    "tags": []
   },
   "outputs": [],
   "source": [
    "import pandas as pd\n",
    "import numpy as np\n",
    "import os\n",
    "import matplotlib.pyplot as plt\n",
    "import seaborn as sns\n",
    "import plotly.express as px\n",
    "import plotly.graph_objects as go\n",
    "from plotly.subplots import make_subplots\n",
    "import json  "
   ]
  },
  {
   "cell_type": "markdown",
   "id": "83369a27",
   "metadata": {
    "papermill": {
     "duration": null,
     "end_time": null,
     "exception": null,
     "start_time": null,
     "status": "pending"
    },
    "tags": []
   },
   "source": [
    "# test Viz"
   ]
  },
  {
   "cell_type": "code",
   "execution_count": null,
   "id": "5d33f903",
   "metadata": {
    "jupyter": {
     "source_hidden": true
    },
    "papermill": {
     "duration": null,
     "end_time": null,
     "exception": null,
     "start_time": null,
     "status": "pending"
    },
    "tags": []
   },
   "outputs": [],
   "source": [
    "data_folder = \"data\"\n",
    "usd_egp = pd.read_csv(f\"{data_folder}/historical_USD_EGP.csv\")\n",
    "eur_egp = pd.read_csv(f\"{data_folder}/historical_EUR_EGP.csv\")\n",
    "eur_usd = pd.read_csv(f\"{data_folder}/historical_EUR_USD.csv\")"
   ]
  },
  {
   "cell_type": "code",
   "execution_count": null,
   "id": "9f6a109e",
   "metadata": {
    "jupyter": {
     "source_hidden": true
    },
    "papermill": {
     "duration": null,
     "end_time": null,
     "exception": null,
     "start_time": null,
     "status": "pending"
    },
    "tags": []
   },
   "outputs": [],
   "source": [
    "plt.figure(figsize=(14, 7))\n",
    "plt.plot(usd_egp.index, usd_egp['Close'], label='USD/EGP')\n",
    "plt.plot(eur_egp.index, eur_egp['Close'], label='EUR/EGP')\n",
    "plt.plot(eur_usd.index, eur_usd['Close'], label='EUR/USD')\n",
    "plt.title('Exchange Rate Comparison (Closing Prices)')\n",
    "plt.xlabel('Date')\n",
    "plt.ylabel('Exchange Rate')\n",
    "plt.legend()\n",
    "plt.grid(True, alpha=0.3)\n",
    "plt.xticks(rotation=45)\n",
    "plt.tight_layout()\n",
    "plt.show()"
   ]
  },
  {
   "cell_type": "code",
   "execution_count": null,
   "id": "985a5efa",
   "metadata": {
    "jupyter": {
     "source_hidden": true
    },
    "papermill": {
     "duration": null,
     "end_time": null,
     "exception": null,
     "start_time": null,
     "status": "pending"
    },
    "tags": []
   },
   "outputs": [],
   "source": [
    "plt.figure(figsize=(14, 6))\n",
    "for i, data in enumerate([usd_egp, eur_egp, eur_usd], 1):\n",
    "    plt.subplot(1, 3, i)\n",
    "    sns.boxplot(data=data[['Open', 'High', 'Low', 'Close']])\n",
    "    plt.title(f\"{'USD/EGP' if i==1 else 'EUR/EGP' if i==2 else 'EUR/USD'} Price Distribution\")\n",
    "    plt.xticks(rotation=45)\n",
    "plt.tight_layout()\n",
    "plt.show()"
   ]
  },
  {
   "cell_type": "code",
   "execution_count": null,
   "id": "b2e93f75",
   "metadata": {
    "jupyter": {
     "source_hidden": true
    },
    "papermill": {
     "duration": null,
     "end_time": null,
     "exception": null,
     "start_time": null,
     "status": "pending"
    },
    "tags": []
   },
   "outputs": [],
   "source": [
    "usd_egp_weekly = usd_egp['Close'].resample('W').mean().reset_index()\n",
    "eur_egp_weekly = eur_egp['Close'].resample('W').mean().reset_index() \n",
    "eur_usd_weekly = eur_usd['Close'].resample('W').mean().reset_index()\n",
    "\n",
    "\n",
    "fig = px.line(usd_egp_weekly, x='Date', y='Close', title='USD/EGP Weekly Average Exchange Rate')\n",
    "fig.show()"
   ]
  },
  {
   "cell_type": "code",
   "execution_count": null,
   "id": "8b3c7bad",
   "metadata": {
    "jupyter": {
     "source_hidden": true
    },
    "papermill": {
     "duration": null,
     "end_time": null,
     "exception": null,
     "start_time": null,
     "status": "pending"
    },
    "tags": []
   },
   "outputs": [],
   "source": [
    "fig = go.Figure()\n",
    "fig.add_trace(go.Scatter(x=usd_egp_weekly['Date'], y=usd_egp_weekly['Close'], mode='lines', name='USD/EGP'))\n",
    "fig.add_trace(go.Scatter(x=eur_egp_weekly['Date'], y=eur_egp_weekly['Close'], mode='lines', name='EUR/EGP'))\n",
    "fig.add_trace(go.Scatter(x=eur_usd_weekly['Date'], y=eur_usd_weekly['Close'], mode='lines', name='EUR/USD'))\n",
    "\n",
    "fig.update_layout(\n",
    "    title='Weekly Average Exchange Rates',\n",
    "    xaxis_title='Date',\n",
    "    yaxis_title='Exchange Rate',\n",
    "    legend_title='Currency Pairs',\n",
    "    template='plotly_white'\n",
    ")\n",
    "fig.show()"
   ]
  },
  {
   "cell_type": "code",
   "execution_count": null,
   "id": "d38c1c53",
   "metadata": {
    "jupyter": {
     "source_hidden": true
    },
    "papermill": {
     "duration": null,
     "end_time": null,
     "exception": null,
     "start_time": null,
     "status": "pending"
    },
    "tags": []
   },
   "outputs": [],
   "source": [
    "combined_df = pd.DataFrame({\n",
    "    'USD/EGP': usd_egp['Close'],\n",
    "    'EUR/EGP': eur_egp['Close'],\n",
    "    'EUR/USD': eur_usd['Close']\n",
    "})\n",
    "\n",
    "\n",
    "returns = combined_df.pct_change().dropna()\n",
    "\n",
    "\n",
    "correlation = returns.corr()\n",
    "\n",
    "plt.figure(figsize=(10, 8))\n",
    "sns.heatmap(correlation, annot=True, cmap='coolwarm', vmin=-1, vmax=1, center=0,\n",
    "            square=True, linewidths=.5, cbar_kws={\"shrink\": .8})\n",
    "plt.title('Correlation of Daily Returns Between Currency Pairs')\n",
    "plt.tight_layout()\n",
    "plt.show()\n"
   ]
  },
  {
   "cell_type": "code",
   "execution_count": null,
   "id": "f6502257",
   "metadata": {
    "jupyter": {
     "source_hidden": true
    },
    "papermill": {
     "duration": null,
     "end_time": null,
     "exception": null,
     "start_time": null,
     "status": "pending"
    },
    "tags": []
   },
   "outputs": [],
   "source": [
    "window = 20  # 20-day rolling window\n",
    "volatility = returns.rolling(window=window).std() * np.sqrt(window)  \n",
    "plt.figure(figsize=(14, 7))\n",
    "volatility.plot()\n",
    "plt.title(f'{window}-Day Rolling Volatility')\n",
    "plt.xlabel('Date')\n",
    "plt.ylabel('Volatility')\n",
    "plt.legend()\n",
    "plt.grid(True, alpha=0.3)\n",
    "plt.xticks(rotation=45)\n",
    "plt.tight_layout()\n",
    "plt.show()"
   ]
  }
 ],
 "metadata": {
  "kernelspec": {
   "display_name": "base",
   "language": "python",
   "name": "python3"
  },
  "language_info": {
   "codemirror_mode": {
    "name": "ipython",
    "version": 3
   },
   "file_extension": ".py",
   "mimetype": "text/x-python",
   "name": "python",
   "nbconvert_exporter": "python",
   "pygments_lexer": "ipython3",
   "version": "3.11.3"
  },
  "papermill": {
   "default_parameters": {},
   "duration": 3.98866,
   "end_time": "2025-03-22T21:38:41.522856",
   "environment_variables": {},
   "exception": true,
   "input_path": "date_cleaning/data_cleaning.ipynb",
   "output_path": "date_cleaning/data_cleaning.ipynb",
   "parameters": {},
   "start_time": "2025-03-22T21:38:37.534196",
   "version": "2.6.0"
  }
 },
 "nbformat": 4,
 "nbformat_minor": 5
}
