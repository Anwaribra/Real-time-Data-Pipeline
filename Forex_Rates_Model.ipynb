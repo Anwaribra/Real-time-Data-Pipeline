{
  "cells": [
    {
      "cell_type": "code",
      "execution_count": 1,
      "metadata": {
        "colab": {
          "base_uri": "https://localhost:8080/"
        },
        "id": "s4ckgCtjS2nG",
        "outputId": "19ee6508-bbbc-40df-aa6b-0e092e31bd80"
      },
      "outputs": [
        {
          "name": "stdout",
          "output_type": "stream",
          "text": [
            "Collecting snowflake-connector-python\n",
            "  Downloading snowflake_connector_python-3.14.0-cp311-cp311-manylinux_2_17_x86_64.manylinux2014_x86_64.whl (2.5 MB)\n",
            "\u001b[2K     \u001b[90m━━━━━━━━━━━━━━━━━━━━━━━━━━━━━━━━━━━━━━━━\u001b[0m \u001b[32m2.5/2.5 MB\u001b[0m \u001b[31m782.4 kB/s\u001b[0m eta \u001b[36m0:00:00\u001b[0m00:01\u001b[0m00:01\u001b[0m\n",
            "\u001b[?25hRequirement already satisfied: pandas in /home/anwar/anaconda3/lib/python3.11/site-packages (1.5.3)\n",
            "Collecting asn1crypto<2.0.0,>0.24.0 (from snowflake-connector-python)\n",
            "  Using cached asn1crypto-1.5.1-py2.py3-none-any.whl (105 kB)\n",
            "Requirement already satisfied: cffi<2.0.0,>=1.9 in /home/anwar/anaconda3/lib/python3.11/site-packages (from snowflake-connector-python) (1.15.1)\n",
            "Requirement already satisfied: cryptography>=3.1.0 in /home/anwar/anaconda3/lib/python3.11/site-packages (from snowflake-connector-python) (44.0.2)\n",
            "Requirement already satisfied: pyOpenSSL<26.0.0,>=22.0.0 in /home/anwar/anaconda3/lib/python3.11/site-packages (from snowflake-connector-python) (23.0.0)\n",
            "Requirement already satisfied: pyjwt<3.0.0 in /home/anwar/anaconda3/lib/python3.11/site-packages (from snowflake-connector-python) (2.4.0)\n",
            "Requirement already satisfied: pytz in /home/anwar/anaconda3/lib/python3.11/site-packages (from snowflake-connector-python) (2022.7)\n",
            "Requirement already satisfied: requests<3.0.0 in /home/anwar/anaconda3/lib/python3.11/site-packages (from snowflake-connector-python) (2.29.0)\n",
            "Requirement already satisfied: packaging in /home/anwar/anaconda3/lib/python3.11/site-packages (from snowflake-connector-python) (23.0)\n",
            "Requirement already satisfied: charset_normalizer<4,>=2 in /home/anwar/anaconda3/lib/python3.11/site-packages (from snowflake-connector-python) (2.0.4)\n",
            "Requirement already satisfied: idna<4,>=2.5 in /home/anwar/anaconda3/lib/python3.11/site-packages (from snowflake-connector-python) (3.4)\n",
            "Requirement already satisfied: certifi>=2017.4.17 in /home/anwar/anaconda3/lib/python3.11/site-packages (from snowflake-connector-python) (2025.1.31)\n",
            "Requirement already satisfied: typing_extensions<5,>=4.3 in /home/anwar/anaconda3/lib/python3.11/site-packages (from snowflake-connector-python) (4.12.2)\n",
            "Requirement already satisfied: filelock<4,>=3.5 in /home/anwar/anaconda3/lib/python3.11/site-packages (from snowflake-connector-python) (3.9.0)\n",
            "Requirement already satisfied: sortedcontainers>=2.4.0 in /home/anwar/anaconda3/lib/python3.11/site-packages (from snowflake-connector-python) (2.4.0)\n",
            "Collecting platformdirs<5.0.0,>=2.6.0 (from snowflake-connector-python)\n",
            "  Downloading platformdirs-4.3.7-py3-none-any.whl (18 kB)\n",
            "Requirement already satisfied: tomlkit in /home/anwar/anaconda3/lib/python3.11/site-packages (from snowflake-connector-python) (0.11.1)\n",
            "Requirement already satisfied: python-dateutil>=2.8.1 in /home/anwar/anaconda3/lib/python3.11/site-packages (from pandas) (2.8.2)\n",
            "Requirement already satisfied: numpy>=1.21.0 in /home/anwar/anaconda3/lib/python3.11/site-packages (from pandas) (1.24.3)\n",
            "Requirement already satisfied: pycparser in /home/anwar/anaconda3/lib/python3.11/site-packages (from cffi<2.0.0,>=1.9->snowflake-connector-python) (2.21)\n",
            "Collecting cryptography>=3.1.0 (from snowflake-connector-python)\n",
            "  Downloading cryptography-39.0.2-cp36-abi3-manylinux_2_28_x86_64.whl (4.2 MB)\n",
            "\u001b[2K     \u001b[90m━━━━━━━━━━━━━━━━━━━━━━━━━━━━━━━━━━━━━━━━\u001b[0m \u001b[32m4.2/4.2 MB\u001b[0m \u001b[31m1.4 MB/s\u001b[0m eta \u001b[36m0:00:00\u001b[0m00:01\u001b[0m00:01\u001b[0m\n",
            "\u001b[?25hRequirement already satisfied: six>=1.5 in /home/anwar/anaconda3/lib/python3.11/site-packages (from python-dateutil>=2.8.1->pandas) (1.16.0)\n",
            "Requirement already satisfied: urllib3<1.27,>=1.21.1 in /home/anwar/anaconda3/lib/python3.11/site-packages (from requests<3.0.0->snowflake-connector-python) (1.26.16)\n",
            "Installing collected packages: asn1crypto, platformdirs, cryptography, snowflake-connector-python\n",
            "  Attempting uninstall: platformdirs\n",
            "    Found existing installation: platformdirs 2.5.2\n",
            "    Uninstalling platformdirs-2.5.2:\n",
            "      Successfully uninstalled platformdirs-2.5.2\n",
            "  Attempting uninstall: cryptography\n",
            "    Found existing installation: cryptography 44.0.2\n",
            "    Uninstalling cryptography-44.0.2:\n",
            "      Successfully uninstalled cryptography-44.0.2\n",
            "\u001b[31mERROR: pip's dependency resolver does not currently take into account all the packages that are installed. This behaviour is the source of the following dependency conflicts.\n",
            "conda-repo-cli 1.0.41 requires requests_mock, which is not installed.\n",
            "spyder 5.4.3 requires pyqt5<5.16, which is not installed.\n",
            "spyder 5.4.3 requires pyqtwebengine<5.16, which is not installed.\n",
            "python-lsp-black 1.2.1 requires black>=22.3.0, but you have black 0.0 which is incompatible.\n",
            "conda-repo-cli 1.0.41 requires clyent==1.2.1, but you have clyent 1.2.2 which is incompatible.\n",
            "conda-repo-cli 1.0.41 requires nbformat==5.4.0, but you have nbformat 5.7.0 which is incompatible.\n",
            "conda-repo-cli 1.0.41 requires requests==2.28.1, but you have requests 2.29.0 which is incompatible.\n",
            "apache-airflow 2.10.5 requires cryptography>=41.0.0, but you have cryptography 39.0.2 which is incompatible.\u001b[0m\u001b[31m\n",
            "\u001b[0mSuccessfully installed asn1crypto-1.5.1 cryptography-39.0.2 platformdirs-4.3.7 snowflake-connector-python-3.14.0\n"
          ]
        }
      ],
      "source": [
        "!pip install snowflake-connector-python pandas"
      ]
    },
    {
      "cell_type": "code",
      "execution_count": 2,
      "metadata": {
        "id": "Jq3cHsudS6BT"
      },
      "outputs": [],
      "source": [
        "import snowflake.connector"
      ]
    },
    {
      "cell_type": "code",
      "execution_count": 36,
      "metadata": {
        "id": "6XDUQ1DNS5-7"
      },
      "outputs": [],
      "source": [
        "conn = snowflake.connector.connect(\n",
        "    user='ABDELRAHMAN1ZAID1',\n",
        "    password='!6z:8MUULDpAXi!',\n",
        "    account='DRTSSDW-CB27875',  \n",
        "    warehouse='COMPUTE_WH',\n",
        "    database='FOREX_RATES',\n",
        "    schema='PUBLIC'\n",
        ")"
      ]
    },
    {
      "cell_type": "code",
      "execution_count": 4,
      "metadata": {
        "id": "Wuqf8RsWS58i"
      },
      "outputs": [],
      "source": [
        "import pandas as pd"
      ]
    },
    {
      "cell_type": "code",
      "execution_count": 37,
      "metadata": {
        "colab": {
          "base_uri": "https://localhost:8080/"
        },
        "id": "2Pp7Qvo3S56k",
        "outputId": "52ea5a82-4588-43c7-87d6-4144d70203c2"
      },
      "outputs": [
        {
          "name": "stderr",
          "output_type": "stream",
          "text": [
            "/tmp/ipykernel_617880/2717223802.py:2: UserWarning:\n",
            "\n",
            "pandas only supports SQLAlchemy connectable (engine/connection) or database string URI or sqlite3 DBAPI2 connection. Other DBAPI2 objects are not tested. Please consider using SQLAlchemy.\n",
            "\n"
          ]
        },
        {
          "name": "stdout",
          "output_type": "stream",
          "text": [
            "                  name          database_name  schema_name\n",
            "0        FOREX_EUR_EGP             FOREX_DATA       BRONZE\n",
            "1        FOREX_EUR_USD             FOREX_DATA       BRONZE\n",
            "2        FOREX_USD_EGP             FOREX_DATA       BRONZE\n",
            "3         DIM_CALENDAR             FOREX_DATA         GOLD\n",
            "4   DIM_CURRENCY_PAIRS             FOREX_DATA         GOLD\n",
            "..                 ...                    ...          ...\n",
            "89              ORDERS  SNOWFLAKE_SAMPLE_DATA  TPCH_SF1000\n",
            "90                PART  SNOWFLAKE_SAMPLE_DATA  TPCH_SF1000\n",
            "91            PARTSUPP  SNOWFLAKE_SAMPLE_DATA  TPCH_SF1000\n",
            "92              REGION  SNOWFLAKE_SAMPLE_DATA  TPCH_SF1000\n",
            "93            SUPPLIER  SNOWFLAKE_SAMPLE_DATA  TPCH_SF1000\n",
            "\n",
            "[94 rows x 3 columns]\n"
          ]
        }
      ],
      "source": [
        "query = \"SHOW TABLES\"\n",
        "tables_df = pd.read_sql(query, conn)\n",
        "print(tables_df[['name', 'database_name', 'schema_name']])"
      ]
    },
    {
      "cell_type": "code",
      "execution_count": 38,
      "metadata": {
        "colab": {
          "base_uri": "https://localhost:8080/"
        },
        "id": "yEs7wYA0S54T",
        "outputId": "f53c01d6-76bd-49bf-83f5-afb061dd63a3"
      },
      "outputs": [
        {
          "name": "stderr",
          "output_type": "stream",
          "text": [
            "/tmp/ipykernel_617880/4271620261.py:4: UserWarning:\n",
            "\n",
            "pandas only supports SQLAlchemy connectable (engine/connection) or database string URI or sqlite3 DBAPI2 connection. Other DBAPI2 objects are not tested. Please consider using SQLAlchemy.\n",
            "\n"
          ]
        },
        {
          "name": "stdout",
          "output_type": "stream",
          "text": [
            "         DATE CURRENCY_PAIR  OPEN_RATE  HIGH_RATE  LOW_RATE  CLOSE_RATE  \\\n",
            "0  2025-04-11       EUR/USD    1.11918    1.14736   1.11918     1.13580   \n",
            "1  2025-04-10       EUR/USD    1.09497    1.12414   1.09426     1.11888   \n",
            "2  2025-04-09       EUR/USD    1.09564    1.10952   1.09130     1.09503   \n",
            "3  2025-04-08       EUR/USD    1.09112    1.09918   1.08881     1.09565   \n",
            "4  2025-04-07       EUR/USD    1.09148    1.10500   1.09007     1.09112   \n",
            "\n",
            "              INSERTED_AT  \n",
            "0 2025-04-13 09:35:55.296  \n",
            "1 2025-04-13 09:35:55.296  \n",
            "2 2025-04-13 09:35:55.296  \n",
            "3 2025-04-13 09:35:55.296  \n",
            "4 2025-04-13 09:35:55.296  \n"
          ]
        }
      ],
      "source": [
        "import pandas as pd\n",
        "\n",
        "query = \"SELECT * FROM FOREX_DATA.SILVER.FOREX_RATES\"\n",
        "df = pd.read_sql(query, conn)\n",
        "\n",
        "print(df.head())\n"
      ]
    },
    {
      "cell_type": "code",
      "execution_count": 39,
      "metadata": {
        "colab": {
          "base_uri": "https://localhost:8080/",
          "height": 424
        },
        "id": "UXtlaxvGS52C",
        "outputId": "b7b87535-cb5a-479f-ea62-7d8446642a28"
      },
      "outputs": [
        {
          "data": {
            "text/html": [
              "<div>\n",
              "<style scoped>\n",
              "    .dataframe tbody tr th:only-of-type {\n",
              "        vertical-align: middle;\n",
              "    }\n",
              "\n",
              "    .dataframe tbody tr th {\n",
              "        vertical-align: top;\n",
              "    }\n",
              "\n",
              "    .dataframe thead th {\n",
              "        text-align: right;\n",
              "    }\n",
              "</style>\n",
              "<table border=\"1\" class=\"dataframe\">\n",
              "  <thead>\n",
              "    <tr style=\"text-align: right;\">\n",
              "      <th></th>\n",
              "      <th>DATE</th>\n",
              "      <th>CURRENCY_PAIR</th>\n",
              "      <th>OPEN_RATE</th>\n",
              "      <th>HIGH_RATE</th>\n",
              "      <th>LOW_RATE</th>\n",
              "      <th>CLOSE_RATE</th>\n",
              "      <th>INSERTED_AT</th>\n",
              "    </tr>\n",
              "  </thead>\n",
              "  <tbody>\n",
              "    <tr>\n",
              "      <th>0</th>\n",
              "      <td>2025-04-11</td>\n",
              "      <td>EUR/USD</td>\n",
              "      <td>1.11918</td>\n",
              "      <td>1.14736</td>\n",
              "      <td>1.11918</td>\n",
              "      <td>1.13580</td>\n",
              "      <td>2025-04-13 09:35:55.296</td>\n",
              "    </tr>\n",
              "    <tr>\n",
              "      <th>1</th>\n",
              "      <td>2025-04-10</td>\n",
              "      <td>EUR/USD</td>\n",
              "      <td>1.09497</td>\n",
              "      <td>1.12414</td>\n",
              "      <td>1.09426</td>\n",
              "      <td>1.11888</td>\n",
              "      <td>2025-04-13 09:35:55.296</td>\n",
              "    </tr>\n",
              "    <tr>\n",
              "      <th>2</th>\n",
              "      <td>2025-04-09</td>\n",
              "      <td>EUR/USD</td>\n",
              "      <td>1.09564</td>\n",
              "      <td>1.10952</td>\n",
              "      <td>1.09130</td>\n",
              "      <td>1.09503</td>\n",
              "      <td>2025-04-13 09:35:55.296</td>\n",
              "    </tr>\n",
              "    <tr>\n",
              "      <th>3</th>\n",
              "      <td>2025-04-08</td>\n",
              "      <td>EUR/USD</td>\n",
              "      <td>1.09112</td>\n",
              "      <td>1.09918</td>\n",
              "      <td>1.08881</td>\n",
              "      <td>1.09565</td>\n",
              "      <td>2025-04-13 09:35:55.296</td>\n",
              "    </tr>\n",
              "    <tr>\n",
              "      <th>4</th>\n",
              "      <td>2025-04-07</td>\n",
              "      <td>EUR/USD</td>\n",
              "      <td>1.09148</td>\n",
              "      <td>1.10500</td>\n",
              "      <td>1.09007</td>\n",
              "      <td>1.09112</td>\n",
              "      <td>2025-04-13 09:35:55.296</td>\n",
              "    </tr>\n",
              "    <tr>\n",
              "      <th>...</th>\n",
              "      <td>...</td>\n",
              "      <td>...</td>\n",
              "      <td>...</td>\n",
              "      <td>...</td>\n",
              "      <td>...</td>\n",
              "      <td>...</td>\n",
              "      <td>...</td>\n",
              "    </tr>\n",
              "    <tr>\n",
              "      <th>10401</th>\n",
              "      <td>2014-11-13</td>\n",
              "      <td>USD/EGP</td>\n",
              "      <td>7.15000</td>\n",
              "      <td>7.15000</td>\n",
              "      <td>7.13000</td>\n",
              "      <td>7.15000</td>\n",
              "      <td>2025-04-13 09:36:00.110</td>\n",
              "    </tr>\n",
              "    <tr>\n",
              "      <th>10402</th>\n",
              "      <td>2014-11-11</td>\n",
              "      <td>USD/EGP</td>\n",
              "      <td>7.15000</td>\n",
              "      <td>7.15000</td>\n",
              "      <td>7.15000</td>\n",
              "      <td>7.15000</td>\n",
              "      <td>2025-04-13 09:36:00.110</td>\n",
              "    </tr>\n",
              "    <tr>\n",
              "      <th>10403</th>\n",
              "      <td>2016-02-16</td>\n",
              "      <td>USD/EGP</td>\n",
              "      <td>7.79000</td>\n",
              "      <td>7.83000</td>\n",
              "      <td>7.79000</td>\n",
              "      <td>7.83000</td>\n",
              "      <td>2025-04-13 09:36:00.110</td>\n",
              "    </tr>\n",
              "    <tr>\n",
              "      <th>10404</th>\n",
              "      <td>2015-10-19</td>\n",
              "      <td>USD/EGP</td>\n",
              "      <td>7.93000</td>\n",
              "      <td>8.00000</td>\n",
              "      <td>7.93000</td>\n",
              "      <td>8.00000</td>\n",
              "      <td>2025-04-13 09:36:00.110</td>\n",
              "    </tr>\n",
              "    <tr>\n",
              "      <th>10405</th>\n",
              "      <td>2014-12-19</td>\n",
              "      <td>USD/EGP</td>\n",
              "      <td>7.15000</td>\n",
              "      <td>7.15000</td>\n",
              "      <td>7.13000</td>\n",
              "      <td>7.15000</td>\n",
              "      <td>2025-04-13 09:36:00.110</td>\n",
              "    </tr>\n",
              "  </tbody>\n",
              "</table>\n",
              "<p>10406 rows × 7 columns</p>\n",
              "</div>"
            ],
            "text/plain": [
              "             DATE CURRENCY_PAIR  OPEN_RATE  HIGH_RATE  LOW_RATE  CLOSE_RATE  \\\n",
              "0      2025-04-11       EUR/USD    1.11918    1.14736   1.11918     1.13580   \n",
              "1      2025-04-10       EUR/USD    1.09497    1.12414   1.09426     1.11888   \n",
              "2      2025-04-09       EUR/USD    1.09564    1.10952   1.09130     1.09503   \n",
              "3      2025-04-08       EUR/USD    1.09112    1.09918   1.08881     1.09565   \n",
              "4      2025-04-07       EUR/USD    1.09148    1.10500   1.09007     1.09112   \n",
              "...           ...           ...        ...        ...       ...         ...   \n",
              "10401  2014-11-13       USD/EGP    7.15000    7.15000   7.13000     7.15000   \n",
              "10402  2014-11-11       USD/EGP    7.15000    7.15000   7.15000     7.15000   \n",
              "10403  2016-02-16       USD/EGP    7.79000    7.83000   7.79000     7.83000   \n",
              "10404  2015-10-19       USD/EGP    7.93000    8.00000   7.93000     8.00000   \n",
              "10405  2014-12-19       USD/EGP    7.15000    7.15000   7.13000     7.15000   \n",
              "\n",
              "                  INSERTED_AT  \n",
              "0     2025-04-13 09:35:55.296  \n",
              "1     2025-04-13 09:35:55.296  \n",
              "2     2025-04-13 09:35:55.296  \n",
              "3     2025-04-13 09:35:55.296  \n",
              "4     2025-04-13 09:35:55.296  \n",
              "...                       ...  \n",
              "10401 2025-04-13 09:36:00.110  \n",
              "10402 2025-04-13 09:36:00.110  \n",
              "10403 2025-04-13 09:36:00.110  \n",
              "10404 2025-04-13 09:36:00.110  \n",
              "10405 2025-04-13 09:36:00.110  \n",
              "\n",
              "[10406 rows x 7 columns]"
            ]
          },
          "execution_count": 39,
          "metadata": {},
          "output_type": "execute_result"
        }
      ],
      "source": [
        "df"
      ]
    },
    {
      "cell_type": "code",
      "execution_count": 40,
      "metadata": {
        "id": "Xycsgge2S5zy"
      },
      "outputs": [],
      "source": [
        "df = df.rename(columns={'OPEN_RATE': 'Open', 'HIGH_RATE': 'High','LOW_RATE':'Low','CLOSE_RATE':'Close'})"
      ]
    },
    {
      "cell_type": "markdown",
      "metadata": {
        "id": "Z4lv1dv-6ch1"
      },
      "source": [
        "# ML Model"
      ]
    },
    {
      "cell_type": "code",
      "execution_count": 41,
      "metadata": {
        "id": "zlrcHeUHTC8z"
      },
      "outputs": [],
      "source": [
        "import pandas as pd\n",
        "import numpy as np\n",
        "import plotly.graph_objects as go\n",
        "import ta\n",
        "from sklearn.model_selection import train_test_split\n",
        "from sklearn.metrics import accuracy_score\n",
        "import lightgbm as lgb"
      ]
    },
    {
      "cell_type": "code",
      "execution_count": 42,
      "metadata": {
        "id": "SC4T_ZnFTC6r"
      },
      "outputs": [],
      "source": [
        "# Step 1: Load Data\n",
        "df['DATE'] = pd.to_datetime(df['DATE'])\n",
        "df.sort_values('DATE', inplace=True)\n",
        "df.reset_index(drop=True, inplace=True)"
      ]
    },
    {
      "cell_type": "code",
      "execution_count": 43,
      "metadata": {
        "id": "1CQ-Eip_TC4j"
      },
      "outputs": [],
      "source": [
        "# Step 2: Feature Engineering\n",
        "df['HL'] = df['High'] - df['Low']\n",
        "df['OC'] = df['Close'] - df['Open']\n",
        "df['BODY'] = abs(df['Close'] - df['Open'])"
      ]
    },
    {
      "cell_type": "code",
      "execution_count": 44,
      "metadata": {
        "id": "nbbz19-86lI9"
      },
      "outputs": [],
      "source": [
        "# Technical indicators\n",
        "df['RSI'] = ta.momentum.RSIIndicator(df['Close'], window=14).rsi()\n",
        "df['EMA_12'] = ta.trend.ema_indicator(df['Close'], window=12)\n",
        "df['EMA_26'] = ta.trend.ema_indicator(df['Close'], window=26)\n",
        "df['MACD'] = df['EMA_12'] - df['EMA_26']\n",
        "bb = ta.volatility.BollingerBands(df['Close'])\n",
        "df['BB_HIGH'] = bb.bollinger_hband()\n",
        "df['BB_LOW'] = bb.bollinger_lband()\n",
        "df['STOCH'] = ta.momentum.StochasticOscillator(df['High'], df['Low'], df['Close']).stoch()\n"
      ]
    },
    {
      "cell_type": "code",
      "execution_count": 45,
      "metadata": {
        "id": "ddquQu8r6lGf"
      },
      "outputs": [],
      "source": [
        "# Rolling features\n",
        "for window in [3, 5, 10]:\n",
        "    df[f'CLOSE_ROLL_MEAN_{window}'] = df['Close'].rolling(window).mean()\n",
        "    df[f'CLOSE_ROLL_STD_{window}'] = df['Close'].rolling(window).std()\n",
        "    df[f'HL_ROLL_MEAN_{window}'] = df['HL'].rolling(window).mean()\n",
        "    df[f'OC_ROLL_MEAN_{window}'] = df['OC'].rolling(window).mean()"
      ]
    },
    {
      "cell_type": "code",
      "execution_count": 46,
      "metadata": {
        "id": "g9h0ClAR6lDw"
      },
      "outputs": [],
      "source": [
        "# Time features\n",
        "df['HOUR'] = df['DATE'].dt.hour\n",
        "df['DAY_OF_WEEK'] = df['DATE'].dt.dayofweek"
      ]
    },
    {
      "cell_type": "code",
      "execution_count": 47,
      "metadata": {
        "id": "Bq9bex406lBJ"
      },
      "outputs": [],
      "source": [
        "# Step 3: Candlestick Pattern Features\n",
        "df['IS_BULLISH'] = (df['Close'] > df['Open']).astype(int)\n",
        "df['IS_BEARISH'] = (df['Close'] < df['Open']).astype(int)\n",
        "df['IS_DOJI'] = (abs(df['Close'] - df['Open']) < (df['High'] - df['Low']) * 0.1).astype(int)\n",
        "\n",
        "df['BODY'] = abs(df['Close'] - df['Open'])\n",
        "df['IS_HAMMER'] = ((df['High'] - df['Low']) > 3 * df['BODY']) & \\\n",
        "                  ((df['Close'] - df['Low']) / (df['High'] - df['Low'] + 1e-9) > 0.6) & \\\n",
        "                  ((df['Open'] - df['Low']) / (df['High'] - df['Low'] + 1e-9) > 0.6)\n",
        "df['IS_HAMMER'] = df['IS_HAMMER'].astype(int)\n",
        "\n",
        "df['IS_INV_HAMMER'] = ((df['High'] - df['Low']) > 3 * df['BODY']) & \\\n",
        "                      ((df['High'] - df['Close']) / (df['High'] - df['Low'] + 1e-9) > 0.6) & \\\n",
        "                      ((df['High'] - df['Open']) / (df['High'] - df['Low'] + 1e-9) > 0.6)\n",
        "df['IS_INV_HAMMER'] = df['IS_INV_HAMMER'].astype(int)\n",
        "\n",
        "df['PREV_OPEN'] = df['Open'].shift(1)\n",
        "df['PREV_CLOSE'] = df['Close'].shift(1)\n",
        "\n",
        "df['BULLISH_ENGULFING'] = ((df['IS_BULLISH'] == 1) &\n",
        "                           (df['PREV_CLOSE'] < df['PREV_OPEN']) &\n",
        "                           (df['Open'] < df['PREV_CLOSE']) &\n",
        "                           (df['Close'] > df['PREV_OPEN'])).astype(int)\n",
        "\n",
        "df['BEARISH_ENGULFING'] = ((df['IS_BEARISH'] == 1) &\n",
        "                           (df['PREV_CLOSE'] > df['PREV_OPEN']) &\n",
        "                           (df['Open'] > df['PREV_CLOSE']) &\n",
        "                           (df['Close'] < df['PREV_OPEN'])).astype(int)"
      ]
    },
    {
      "cell_type": "code",
      "execution_count": 48,
      "metadata": {
        "colab": {
          "base_uri": "https://localhost:8080/",
          "height": 617
        },
        "id": "qxbatXGb7qJ6",
        "outputId": "6ebdc497-d545-4255-a097-7ab46d8bb74f"
      },
      "outputs": [
        {
          "data": {
            "text/html": [
              "<div>\n",
              "<style scoped>\n",
              "    .dataframe tbody tr th:only-of-type {\n",
              "        vertical-align: middle;\n",
              "    }\n",
              "\n",
              "    .dataframe tbody tr th {\n",
              "        vertical-align: top;\n",
              "    }\n",
              "\n",
              "    .dataframe thead th {\n",
              "        text-align: right;\n",
              "    }\n",
              "</style>\n",
              "<table border=\"1\" class=\"dataframe\">\n",
              "  <thead>\n",
              "    <tr style=\"text-align: right;\">\n",
              "      <th></th>\n",
              "      <th>DATE</th>\n",
              "      <th>CURRENCY_PAIR</th>\n",
              "      <th>Open</th>\n",
              "      <th>High</th>\n",
              "      <th>Low</th>\n",
              "      <th>Close</th>\n",
              "      <th>INSERTED_AT</th>\n",
              "      <th>HL</th>\n",
              "      <th>OC</th>\n",
              "      <th>BODY</th>\n",
              "      <th>...</th>\n",
              "      <th>DAY_OF_WEEK</th>\n",
              "      <th>IS_BULLISH</th>\n",
              "      <th>IS_BEARISH</th>\n",
              "      <th>IS_DOJI</th>\n",
              "      <th>IS_HAMMER</th>\n",
              "      <th>IS_INV_HAMMER</th>\n",
              "      <th>PREV_OPEN</th>\n",
              "      <th>PREV_CLOSE</th>\n",
              "      <th>BULLISH_ENGULFING</th>\n",
              "      <th>BEARISH_ENGULFING</th>\n",
              "    </tr>\n",
              "  </thead>\n",
              "  <tbody>\n",
              "    <tr>\n",
              "      <th>0</th>\n",
              "      <td>2006-02-10</td>\n",
              "      <td>EUR/USD</td>\n",
              "      <td>1.19780</td>\n",
              "      <td>1.20250</td>\n",
              "      <td>1.18960</td>\n",
              "      <td>1.1906</td>\n",
              "      <td>2025-04-13 09:35:55.296</td>\n",
              "      <td>0.01290</td>\n",
              "      <td>-0.00720</td>\n",
              "      <td>0.00720</td>\n",
              "      <td>...</td>\n",
              "      <td>4</td>\n",
              "      <td>0</td>\n",
              "      <td>1</td>\n",
              "      <td>0</td>\n",
              "      <td>0</td>\n",
              "      <td>0</td>\n",
              "      <td>NaN</td>\n",
              "      <td>NaN</td>\n",
              "      <td>0</td>\n",
              "      <td>0</td>\n",
              "    </tr>\n",
              "    <tr>\n",
              "      <th>1</th>\n",
              "      <td>2006-02-13</td>\n",
              "      <td>EUR/USD</td>\n",
              "      <td>1.18980</td>\n",
              "      <td>1.19220</td>\n",
              "      <td>1.18760</td>\n",
              "      <td>1.1896</td>\n",
              "      <td>2025-04-13 09:35:55.296</td>\n",
              "      <td>0.00460</td>\n",
              "      <td>-0.00020</td>\n",
              "      <td>0.00020</td>\n",
              "      <td>...</td>\n",
              "      <td>0</td>\n",
              "      <td>0</td>\n",
              "      <td>1</td>\n",
              "      <td>1</td>\n",
              "      <td>0</td>\n",
              "      <td>0</td>\n",
              "      <td>1.19780</td>\n",
              "      <td>1.19060</td>\n",
              "      <td>0</td>\n",
              "      <td>0</td>\n",
              "    </tr>\n",
              "    <tr>\n",
              "      <th>2</th>\n",
              "      <td>2006-02-14</td>\n",
              "      <td>EUR/USD</td>\n",
              "      <td>1.18950</td>\n",
              "      <td>1.19230</td>\n",
              "      <td>1.18570</td>\n",
              "      <td>1.1914</td>\n",
              "      <td>2025-04-13 09:35:55.296</td>\n",
              "      <td>0.00660</td>\n",
              "      <td>0.00190</td>\n",
              "      <td>0.00190</td>\n",
              "      <td>...</td>\n",
              "      <td>1</td>\n",
              "      <td>1</td>\n",
              "      <td>0</td>\n",
              "      <td>0</td>\n",
              "      <td>0</td>\n",
              "      <td>0</td>\n",
              "      <td>1.18980</td>\n",
              "      <td>1.18960</td>\n",
              "      <td>1</td>\n",
              "      <td>0</td>\n",
              "    </tr>\n",
              "    <tr>\n",
              "      <th>3</th>\n",
              "      <td>2006-02-15</td>\n",
              "      <td>EUR/USD</td>\n",
              "      <td>1.19150</td>\n",
              "      <td>1.19540</td>\n",
              "      <td>1.18680</td>\n",
              "      <td>1.1888</td>\n",
              "      <td>2025-04-13 09:35:55.296</td>\n",
              "      <td>0.00860</td>\n",
              "      <td>-0.00270</td>\n",
              "      <td>0.00270</td>\n",
              "      <td>...</td>\n",
              "      <td>2</td>\n",
              "      <td>0</td>\n",
              "      <td>1</td>\n",
              "      <td>0</td>\n",
              "      <td>0</td>\n",
              "      <td>0</td>\n",
              "      <td>1.18950</td>\n",
              "      <td>1.19140</td>\n",
              "      <td>0</td>\n",
              "      <td>1</td>\n",
              "    </tr>\n",
              "    <tr>\n",
              "      <th>4</th>\n",
              "      <td>2006-02-16</td>\n",
              "      <td>EUR/USD</td>\n",
              "      <td>1.18870</td>\n",
              "      <td>1.19090</td>\n",
              "      <td>1.18460</td>\n",
              "      <td>1.1903</td>\n",
              "      <td>2025-04-13 09:35:55.296</td>\n",
              "      <td>0.00630</td>\n",
              "      <td>0.00160</td>\n",
              "      <td>0.00160</td>\n",
              "      <td>...</td>\n",
              "      <td>3</td>\n",
              "      <td>1</td>\n",
              "      <td>0</td>\n",
              "      <td>0</td>\n",
              "      <td>1</td>\n",
              "      <td>0</td>\n",
              "      <td>1.19150</td>\n",
              "      <td>1.18880</td>\n",
              "      <td>0</td>\n",
              "      <td>0</td>\n",
              "    </tr>\n",
              "    <tr>\n",
              "      <th>...</th>\n",
              "      <td>...</td>\n",
              "      <td>...</td>\n",
              "      <td>...</td>\n",
              "      <td>...</td>\n",
              "      <td>...</td>\n",
              "      <td>...</td>\n",
              "      <td>...</td>\n",
              "      <td>...</td>\n",
              "      <td>...</td>\n",
              "      <td>...</td>\n",
              "      <td>...</td>\n",
              "      <td>...</td>\n",
              "      <td>...</td>\n",
              "      <td>...</td>\n",
              "      <td>...</td>\n",
              "      <td>...</td>\n",
              "      <td>...</td>\n",
              "      <td>...</td>\n",
              "      <td>...</td>\n",
              "      <td>...</td>\n",
              "      <td>...</td>\n",
              "    </tr>\n",
              "    <tr>\n",
              "      <th>10401</th>\n",
              "      <td>2025-04-10</td>\n",
              "      <td>EUR/EGP</td>\n",
              "      <td>56.53330</td>\n",
              "      <td>58.07310</td>\n",
              "      <td>55.91670</td>\n",
              "      <td>57.3874</td>\n",
              "      <td>2025-04-13 09:35:58.906</td>\n",
              "      <td>2.15640</td>\n",
              "      <td>0.85410</td>\n",
              "      <td>0.85410</td>\n",
              "      <td>...</td>\n",
              "      <td>3</td>\n",
              "      <td>1</td>\n",
              "      <td>0</td>\n",
              "      <td>0</td>\n",
              "      <td>0</td>\n",
              "      <td>0</td>\n",
              "      <td>1.09497</td>\n",
              "      <td>1.11888</td>\n",
              "      <td>0</td>\n",
              "      <td>0</td>\n",
              "    </tr>\n",
              "    <tr>\n",
              "      <th>10402</th>\n",
              "      <td>2025-04-10</td>\n",
              "      <td>USD/EGP</td>\n",
              "      <td>51.63000</td>\n",
              "      <td>51.66000</td>\n",
              "      <td>51.10000</td>\n",
              "      <td>51.2900</td>\n",
              "      <td>2025-04-13 09:36:00.110</td>\n",
              "      <td>0.56000</td>\n",
              "      <td>-0.34000</td>\n",
              "      <td>0.34000</td>\n",
              "      <td>...</td>\n",
              "      <td>3</td>\n",
              "      <td>0</td>\n",
              "      <td>1</td>\n",
              "      <td>0</td>\n",
              "      <td>0</td>\n",
              "      <td>0</td>\n",
              "      <td>56.53330</td>\n",
              "      <td>57.38740</td>\n",
              "      <td>0</td>\n",
              "      <td>0</td>\n",
              "    </tr>\n",
              "    <tr>\n",
              "      <th>10403</th>\n",
              "      <td>2025-04-11</td>\n",
              "      <td>USD/EGP</td>\n",
              "      <td>51.28000</td>\n",
              "      <td>51.29000</td>\n",
              "      <td>51.28000</td>\n",
              "      <td>51.2800</td>\n",
              "      <td>2025-04-13 09:36:00.110</td>\n",
              "      <td>0.01000</td>\n",
              "      <td>0.00000</td>\n",
              "      <td>0.00000</td>\n",
              "      <td>...</td>\n",
              "      <td>4</td>\n",
              "      <td>0</td>\n",
              "      <td>0</td>\n",
              "      <td>1</td>\n",
              "      <td>0</td>\n",
              "      <td>1</td>\n",
              "      <td>51.63000</td>\n",
              "      <td>51.29000</td>\n",
              "      <td>0</td>\n",
              "      <td>0</td>\n",
              "    </tr>\n",
              "    <tr>\n",
              "      <th>10404</th>\n",
              "      <td>2025-04-11</td>\n",
              "      <td>EUR/EGP</td>\n",
              "      <td>57.39160</td>\n",
              "      <td>58.84810</td>\n",
              "      <td>57.39160</td>\n",
              "      <td>58.2438</td>\n",
              "      <td>2025-04-13 09:35:58.906</td>\n",
              "      <td>1.45650</td>\n",
              "      <td>0.85220</td>\n",
              "      <td>0.85220</td>\n",
              "      <td>...</td>\n",
              "      <td>4</td>\n",
              "      <td>1</td>\n",
              "      <td>0</td>\n",
              "      <td>0</td>\n",
              "      <td>0</td>\n",
              "      <td>0</td>\n",
              "      <td>51.28000</td>\n",
              "      <td>51.28000</td>\n",
              "      <td>0</td>\n",
              "      <td>0</td>\n",
              "    </tr>\n",
              "    <tr>\n",
              "      <th>10405</th>\n",
              "      <td>2025-04-11</td>\n",
              "      <td>EUR/USD</td>\n",
              "      <td>1.11918</td>\n",
              "      <td>1.14736</td>\n",
              "      <td>1.11918</td>\n",
              "      <td>1.1358</td>\n",
              "      <td>2025-04-13 09:35:55.296</td>\n",
              "      <td>0.02818</td>\n",
              "      <td>0.01662</td>\n",
              "      <td>0.01662</td>\n",
              "      <td>...</td>\n",
              "      <td>4</td>\n",
              "      <td>1</td>\n",
              "      <td>0</td>\n",
              "      <td>0</td>\n",
              "      <td>0</td>\n",
              "      <td>0</td>\n",
              "      <td>57.39160</td>\n",
              "      <td>58.24380</td>\n",
              "      <td>0</td>\n",
              "      <td>0</td>\n",
              "    </tr>\n",
              "  </tbody>\n",
              "</table>\n",
              "<p>10406 rows × 40 columns</p>\n",
              "</div>"
            ],
            "text/plain": [
              "            DATE CURRENCY_PAIR      Open      High       Low    Close  \\\n",
              "0     2006-02-10       EUR/USD   1.19780   1.20250   1.18960   1.1906   \n",
              "1     2006-02-13       EUR/USD   1.18980   1.19220   1.18760   1.1896   \n",
              "2     2006-02-14       EUR/USD   1.18950   1.19230   1.18570   1.1914   \n",
              "3     2006-02-15       EUR/USD   1.19150   1.19540   1.18680   1.1888   \n",
              "4     2006-02-16       EUR/USD   1.18870   1.19090   1.18460   1.1903   \n",
              "...          ...           ...       ...       ...       ...      ...   \n",
              "10401 2025-04-10       EUR/EGP  56.53330  58.07310  55.91670  57.3874   \n",
              "10402 2025-04-10       USD/EGP  51.63000  51.66000  51.10000  51.2900   \n",
              "10403 2025-04-11       USD/EGP  51.28000  51.29000  51.28000  51.2800   \n",
              "10404 2025-04-11       EUR/EGP  57.39160  58.84810  57.39160  58.2438   \n",
              "10405 2025-04-11       EUR/USD   1.11918   1.14736   1.11918   1.1358   \n",
              "\n",
              "                  INSERTED_AT       HL       OC     BODY  ...  DAY_OF_WEEK  \\\n",
              "0     2025-04-13 09:35:55.296  0.01290 -0.00720  0.00720  ...            4   \n",
              "1     2025-04-13 09:35:55.296  0.00460 -0.00020  0.00020  ...            0   \n",
              "2     2025-04-13 09:35:55.296  0.00660  0.00190  0.00190  ...            1   \n",
              "3     2025-04-13 09:35:55.296  0.00860 -0.00270  0.00270  ...            2   \n",
              "4     2025-04-13 09:35:55.296  0.00630  0.00160  0.00160  ...            3   \n",
              "...                       ...      ...      ...      ...  ...          ...   \n",
              "10401 2025-04-13 09:35:58.906  2.15640  0.85410  0.85410  ...            3   \n",
              "10402 2025-04-13 09:36:00.110  0.56000 -0.34000  0.34000  ...            3   \n",
              "10403 2025-04-13 09:36:00.110  0.01000  0.00000  0.00000  ...            4   \n",
              "10404 2025-04-13 09:35:58.906  1.45650  0.85220  0.85220  ...            4   \n",
              "10405 2025-04-13 09:35:55.296  0.02818  0.01662  0.01662  ...            4   \n",
              "\n",
              "       IS_BULLISH  IS_BEARISH  IS_DOJI  IS_HAMMER  IS_INV_HAMMER  PREV_OPEN  \\\n",
              "0               0           1        0          0              0        NaN   \n",
              "1               0           1        1          0              0    1.19780   \n",
              "2               1           0        0          0              0    1.18980   \n",
              "3               0           1        0          0              0    1.18950   \n",
              "4               1           0        0          1              0    1.19150   \n",
              "...           ...         ...      ...        ...            ...        ...   \n",
              "10401           1           0        0          0              0    1.09497   \n",
              "10402           0           1        0          0              0   56.53330   \n",
              "10403           0           0        1          0              1   51.63000   \n",
              "10404           1           0        0          0              0   51.28000   \n",
              "10405           1           0        0          0              0   57.39160   \n",
              "\n",
              "       PREV_CLOSE  BULLISH_ENGULFING  BEARISH_ENGULFING  \n",
              "0             NaN                  0                  0  \n",
              "1         1.19060                  0                  0  \n",
              "2         1.18960                  1                  0  \n",
              "3         1.19140                  0                  1  \n",
              "4         1.18880                  0                  0  \n",
              "...           ...                ...                ...  \n",
              "10401     1.11888                  0                  0  \n",
              "10402    57.38740                  0                  0  \n",
              "10403    51.29000                  0                  0  \n",
              "10404    51.28000                  0                  0  \n",
              "10405    58.24380                  0                  0  \n",
              "\n",
              "[10406 rows x 40 columns]"
            ]
          },
          "execution_count": 48,
          "metadata": {},
          "output_type": "execute_result"
        }
      ],
      "source": [
        "df"
      ]
    },
    {
      "cell_type": "code",
      "execution_count": 49,
      "metadata": {
        "colab": {
          "base_uri": "https://localhost:8080/",
          "height": 717
        },
        "id": "PO_vgY3KALLQ",
        "outputId": "90f024d8-1762-4cab-9874-8a27c29e7740"
      },
      "outputs": [
        {
          "data": {
            "application/vnd.plotly.v1+json": {
              "config": {
                "plotlyServerURL": "https://plot.ly"
              },
              "data": [
                {
                  "close": [
                    50.51,
                    1.0299,
                    1.0244,
                    51.7424,
                    50.51,
                    50.46,
                    1.02441,
                    51.6917,
                    1.03076,
                    50.4,
                    51.9503,
                    50.38,
                    1.02861,
                    51.8214,
                    1.0299,
                    51.8555,
                    50.35,
                    51.7145,
                    50.35,
                    1.0271,
                    50.27,
                    1.04155,
                    52.3587,
                    52.4022,
                    50.25,
                    1.04283,
                    52.3091,
                    50.26,
                    1.04077,
                    52.324,
                    50.24,
                    1.04148,
                    50.24,
                    52.7113,
                    1.04919,
                    1.04916,
                    52.6678,
                    50.2,
                    1.04298,
                    50.17,
                    52.3263,
                    50.17,
                    52.2807,
                    1.04207,
                    50.18,
                    52.1245,
                    1.03875,
                    50.18,
                    51.9875,
                    1.03602,
                    1.0343,
                    50.31,
                    52.0356,
                    50.26,
                    52.1613,
                    1.03783,
                    1.04021,
                    52.2914,
                    50.27,
                    1.03828,
                    52.1736,
                    50.25,
                    50.25,
                    51.8881,
                    1.0326,
                    51.7789,
                    1.03063,
                    50.24,
                    1.03604,
                    50.4,
                    52.2164,
                    50.57,
                    52.5038,
                    1.03824,
                    1.04641,
                    50.59,
                    52.9379,
                    50.59,
                    1.04913,
                    53.0755,
                    1.0484,
                    52.9966,
                    50.55,
                    52.8458,
                    50.59,
                    1.04459,
                    50.58,
                    52.7155,
                    1.04222,
                    50.53,
                    53.0575,
                    1.05002,
                    52.8023,
                    50.5,
                    1.04559,
                    50.55,
                    52.9112,
                    1.04671,
                    50.53,
                    1.05121,
                    53.1176,
                    52.9841,
                    1.04836,
                    50.54,
                    50.61,
                    52.6207,
                    1.03973,
                    50.6,
                    52.496,
                    1.03747,
                    53.0576,
                    50.6,
                    1.04857,
                    53.7534,
                    1.06253,
                    50.59,
                    54.6063,
                    50.62,
                    1.07875,
                    1.07818,
                    50.63,
                    54.5883,
                    1.083,
                    54.8323,
                    50.63,
                    1.0834,
                    54.7659,
                    50.55,
                    55.1551,
                    50.55,
                    1.0911,
                    50.62,
                    55.1034,
                    1.08857,
                    1.0851,
                    54.9061,
                    50.6,
                    50.6,
                    55.0351,
                    1.08765,
                    1.09212,
                    50.46,
                    55.1084,
                    1.09442,
                    50.45,
                    55.2135,
                    1.09033,
                    55.1598,
                    50.59,
                    54.823,
                    1.08539,
                    50.51,
                    54.6119,
                    50.51,
                    1.08121,
                    54.5915,
                    1.07995,
                    50.55,
                    54.5151,
                    1.07908,
                    50.52,
                    50.5,
                    54.2178,
                    1.07362,
                    1.07974,
                    54.5485,
                    50.52,
                    50.52,
                    54.6813,
                    1.08237,
                    1.08184,
                    50.52,
                    54.6546,
                    54.5257,
                    1.07929,
                    50.52,
                    50.52,
                    54.695,
                    1.08264,
                    55.8492,
                    1.10505,
                    50.54,
                    50.54,
                    1.09573,
                    55.3782,
                    56.0181,
                    51.34,
                    1.09112,
                    1.09565,
                    51.22,
                    56.1192,
                    56.5254,
                    1.09503,
                    51.62,
                    1.11888,
                    57.3874,
                    51.29,
                    51.28,
                    58.2438,
                    1.1358
                  ],
                  "high": [
                    50.63,
                    1.03215,
                    1.03118,
                    52.0849,
                    50.51,
                    50.57,
                    1.025,
                    51.8342,
                    1.03086,
                    50.55,
                    52.11,
                    50.5,
                    1.03544,
                    52.2897,
                    1.03151,
                    52.0448,
                    50.455,
                    52.0146,
                    50.35,
                    1.03306,
                    50.33,
                    1.04342,
                    52.5153,
                    52.4817,
                    50.2925,
                    1.04353,
                    52.6525,
                    50.35,
                    1.04573,
                    52.5475,
                    50.3425,
                    1.0438,
                    50.24,
                    52.8595,
                    1.05214,
                    1.05334,
                    52.9804,
                    50.2975,
                    1.04932,
                    50.24,
                    52.7178,
                    50.2515,
                    52.4807,
                    1.04436,
                    50.23,
                    52.5803,
                    1.04679,
                    50.18,
                    52.3578,
                    1.0434,
                    1.03499,
                    50.41,
                    52.1738,
                    50.3625,
                    52.3146,
                    1.03876,
                    1.04425,
                    52.4944,
                    50.27,
                    1.04058,
                    52.362,
                    50.32,
                    50.25,
                    52.3223,
                    1.04124,
                    52.0236,
                    1.03365,
                    50.33,
                    1.03815,
                    50.45,
                    52.3747,
                    50.68,
                    52.8587,
                    1.04299,
                    1.0467,
                    50.67,
                    53.0363,
                    50.59,
                    1.05141,
                    53.1908,
                    1.05062,
                    53.1824,
                    50.62,
                    53.1236,
                    50.66,
                    1.04863,
                    50.7675,
                    53.1094,
                    1.04613,
                    50.64,
                    53.1892,
                    1.05034,
                    53.0838,
                    50.53,
                    1.05054,
                    50.635,
                    53.31,
                    1.05283,
                    50.63,
                    1.05193,
                    53.2592,
                    53.2657,
                    1.05289,
                    50.59,
                    50.67,
                    53.165,
                    1.04924,
                    50.61,
                    52.7356,
                    1.042,
                    53.2123,
                    50.661,
                    1.05036,
                    53.8602,
                    1.06275,
                    50.68,
                    54.7398,
                    50.7,
                    1.07968,
                    1.08537,
                    50.63,
                    54.9523,
                    1.08888,
                    55.1409,
                    50.64,
                    1.08747,
                    55.026,
                    50.6,
                    55.4257,
                    50.63,
                    1.09472,
                    50.71,
                    55.4331,
                    1.09314,
                    1.08972,
                    55.1616,
                    50.62,
                    50.6,
                    55.2183,
                    1.09127,
                    1.09297,
                    50.65,
                    55.3589,
                    1.09547,
                    50.58,
                    55.4089,
                    1.0946,
                    55.4524,
                    50.66,
                    55.2743,
                    1.09173,
                    50.63,
                    54.8713,
                    50.52,
                    1.08613,
                    54.9859,
                    1.08582,
                    50.64,
                    54.8301,
                    1.08301,
                    50.6275,
                    50.6275,
                    54.6929,
                    1.0803,
                    1.08212,
                    54.8094,
                    50.65,
                    50.52,
                    54.7879,
                    1.08448,
                    1.08494,
                    50.52,
                    54.8112,
                    54.7137,
                    1.08301,
                    50.52,
                    50.52,
                    55.1896,
                    1.09243,
                    56.4464,
                    1.11466,
                    50.64,
                    50.54,
                    1.11076,
                    56.1378,
                    57.0954,
                    51.67,
                    1.105,
                    1.09918,
                    51.481,
                    56.5869,
                    57.34,
                    1.10952,
                    51.68,
                    1.12414,
                    58.0731,
                    51.66,
                    51.29,
                    58.8481,
                    1.14736
                  ],
                  "name": "OHLC",
                  "open": [
                    50.55,
                    1.03177,
                    1.0299,
                    52.0202,
                    50.51,
                    50.51,
                    1.02402,
                    51.7233,
                    1.02407,
                    50.46,
                    51.6746,
                    50.4,
                    1.03074,
                    51.9493,
                    1.0288,
                    51.8309,
                    50.38,
                    51.8429,
                    50.35,
                    1.02965,
                    50.33,
                    1.02831,
                    51.7548,
                    52.3592,
                    50.27,
                    1.04156,
                    52.4032,
                    50.25,
                    1.04285,
                    52.321,
                    50.27,
                    1.0408,
                    50.24,
                    52.3235,
                    1.04147,
                    1.0479,
                    52.6151,
                    50.21,
                    1.04912,
                    50.2,
                    52.6658,
                    50.17,
                    52.3253,
                    1.04296,
                    50.17,
                    52.2786,
                    1.04203,
                    50.18,
                    52.1265,
                    1.03879,
                    1.0232,
                    50.17,
                    51.3339,
                    50.31,
                    52.0341,
                    1.03427,
                    1.0378,
                    52.1495,
                    50.25,
                    1.04019,
                    52.2904,
                    50.27,
                    50.25,
                    52.1701,
                    1.03821,
                    51.6796,
                    1.02886,
                    50.23,
                    1.03062,
                    50.24,
                    51.7783,
                    50.4,
                    52.2169,
                    1.03605,
                    1.03818,
                    50.57,
                    52.5008,
                    50.58,
                    1.04625,
                    52.9193,
                    1.04858,
                    53.0267,
                    50.57,
                    52.9931,
                    50.55,
                    1.04833,
                    50.59,
                    52.8413,
                    1.0445,
                    50.58,
                    52.713,
                    1.04217,
                    53.057,
                    50.53,
                    1.05001,
                    50.54,
                    52.9497,
                    1.04768,
                    50.55,
                    1.04664,
                    52.9077,
                    53.1192,
                    1.05124,
                    50.53,
                    50.54,
                    52.9831,
                    1.04834,
                    50.61,
                    52.6172,
                    1.03966,
                    52.6377,
                    50.6,
                    1.04027,
                    53.0536,
                    1.04849,
                    50.6,
                    53.7407,
                    50.58,
                    1.06249,
                    1.07864,
                    50.62,
                    54.6008,
                    1.0782,
                    54.5893,
                    50.63,
                    1.08392,
                    54.8464,
                    50.6,
                    54.7684,
                    50.55,
                    1.08345,
                    50.55,
                    55.1556,
                    1.09111,
                    1.08856,
                    55.1029,
                    50.62,
                    50.6,
                    54.9086,
                    1.08515,
                    1.088,
                    50.53,
                    54.9766,
                    1.09214,
                    50.46,
                    55.1094,
                    1.09436,
                    55.2105,
                    50.45,
                    55.1768,
                    1.09045,
                    50.6,
                    54.8319,
                    50.52,
                    1.08535,
                    54.7222,
                    1.08168,
                    50.59,
                    54.5895,
                    1.07991,
                    50.55,
                    50.52,
                    54.5217,
                    1.07921,
                    1.07365,
                    54.2193,
                    50.5,
                    50.52,
                    54.5469,
                    1.07971,
                    1.08144,
                    50.52,
                    54.6343,
                    54.653,
                    1.08181,
                    50.52,
                    50.52,
                    54.5257,
                    1.07929,
                    54.694,
                    1.08262,
                    50.52,
                    50.54,
                    1.10509,
                    55.8512,
                    55.7528,
                    51.08,
                    1.09148,
                    1.09112,
                    51.34,
                    56.0181,
                    56.1187,
                    1.09564,
                    51.22,
                    1.09497,
                    56.5333,
                    51.63,
                    51.28,
                    57.3916,
                    1.11918
                  ],
                  "type": "candlestick",
                  "x": [
                    "2025-01-09T00:00:00",
                    "2025-01-09T00:00:00",
                    "2025-01-10T00:00:00",
                    "2025-01-10T00:00:00",
                    "2025-01-10T00:00:00",
                    "2025-01-13T00:00:00",
                    "2025-01-13T00:00:00",
                    "2025-01-13T00:00:00",
                    "2025-01-14T00:00:00",
                    "2025-01-14T00:00:00",
                    "2025-01-14T00:00:00",
                    "2025-01-15T00:00:00",
                    "2025-01-15T00:00:00",
                    "2025-01-15T00:00:00",
                    "2025-01-16T00:00:00",
                    "2025-01-16T00:00:00",
                    "2025-01-16T00:00:00",
                    "2025-01-17T00:00:00",
                    "2025-01-17T00:00:00",
                    "2025-01-17T00:00:00",
                    "2025-01-20T00:00:00",
                    "2025-01-20T00:00:00",
                    "2025-01-20T00:00:00",
                    "2025-01-21T00:00:00",
                    "2025-01-21T00:00:00",
                    "2025-01-21T00:00:00",
                    "2025-01-22T00:00:00",
                    "2025-01-22T00:00:00",
                    "2025-01-22T00:00:00",
                    "2025-01-23T00:00:00",
                    "2025-01-23T00:00:00",
                    "2025-01-23T00:00:00",
                    "2025-01-24T00:00:00",
                    "2025-01-24T00:00:00",
                    "2025-01-24T00:00:00",
                    "2025-01-27T00:00:00",
                    "2025-01-27T00:00:00",
                    "2025-01-27T00:00:00",
                    "2025-01-28T00:00:00",
                    "2025-01-28T00:00:00",
                    "2025-01-28T00:00:00",
                    "2025-01-29T00:00:00",
                    "2025-01-29T00:00:00",
                    "2025-01-29T00:00:00",
                    "2025-01-30T00:00:00",
                    "2025-01-30T00:00:00",
                    "2025-01-30T00:00:00",
                    "2025-01-31T00:00:00",
                    "2025-01-31T00:00:00",
                    "2025-01-31T00:00:00",
                    "2025-02-03T00:00:00",
                    "2025-02-03T00:00:00",
                    "2025-02-03T00:00:00",
                    "2025-02-04T00:00:00",
                    "2025-02-04T00:00:00",
                    "2025-02-04T00:00:00",
                    "2025-02-05T00:00:00",
                    "2025-02-05T00:00:00",
                    "2025-02-05T00:00:00",
                    "2025-02-06T00:00:00",
                    "2025-02-06T00:00:00",
                    "2025-02-06T00:00:00",
                    "2025-02-07T00:00:00",
                    "2025-02-07T00:00:00",
                    "2025-02-07T00:00:00",
                    "2025-02-10T00:00:00",
                    "2025-02-10T00:00:00",
                    "2025-02-10T00:00:00",
                    "2025-02-11T00:00:00",
                    "2025-02-11T00:00:00",
                    "2025-02-11T00:00:00",
                    "2025-02-12T00:00:00",
                    "2025-02-12T00:00:00",
                    "2025-02-12T00:00:00",
                    "2025-02-13T00:00:00",
                    "2025-02-13T00:00:00",
                    "2025-02-13T00:00:00",
                    "2025-02-14T00:00:00",
                    "2025-02-14T00:00:00",
                    "2025-02-14T00:00:00",
                    "2025-02-17T00:00:00",
                    "2025-02-17T00:00:00",
                    "2025-02-17T00:00:00",
                    "2025-02-18T00:00:00",
                    "2025-02-18T00:00:00",
                    "2025-02-18T00:00:00",
                    "2025-02-19T00:00:00",
                    "2025-02-19T00:00:00",
                    "2025-02-19T00:00:00",
                    "2025-02-20T00:00:00",
                    "2025-02-20T00:00:00",
                    "2025-02-20T00:00:00",
                    "2025-02-21T00:00:00",
                    "2025-02-21T00:00:00",
                    "2025-02-21T00:00:00",
                    "2025-02-24T00:00:00",
                    "2025-02-24T00:00:00",
                    "2025-02-24T00:00:00",
                    "2025-02-25T00:00:00",
                    "2025-02-25T00:00:00",
                    "2025-02-25T00:00:00",
                    "2025-02-26T00:00:00",
                    "2025-02-26T00:00:00",
                    "2025-02-26T00:00:00",
                    "2025-02-27T00:00:00",
                    "2025-02-27T00:00:00",
                    "2025-02-27T00:00:00",
                    "2025-02-28T00:00:00",
                    "2025-02-28T00:00:00",
                    "2025-02-28T00:00:00",
                    "2025-03-03T00:00:00",
                    "2025-03-03T00:00:00",
                    "2025-03-03T00:00:00",
                    "2025-03-04T00:00:00",
                    "2025-03-04T00:00:00",
                    "2025-03-04T00:00:00",
                    "2025-03-05T00:00:00",
                    "2025-03-05T00:00:00",
                    "2025-03-05T00:00:00",
                    "2025-03-06T00:00:00",
                    "2025-03-06T00:00:00",
                    "2025-03-06T00:00:00",
                    "2025-03-07T00:00:00",
                    "2025-03-07T00:00:00",
                    "2025-03-07T00:00:00",
                    "2025-03-10T00:00:00",
                    "2025-03-10T00:00:00",
                    "2025-03-10T00:00:00",
                    "2025-03-11T00:00:00",
                    "2025-03-11T00:00:00",
                    "2025-03-11T00:00:00",
                    "2025-03-12T00:00:00",
                    "2025-03-12T00:00:00",
                    "2025-03-12T00:00:00",
                    "2025-03-13T00:00:00",
                    "2025-03-13T00:00:00",
                    "2025-03-13T00:00:00",
                    "2025-03-14T00:00:00",
                    "2025-03-14T00:00:00",
                    "2025-03-14T00:00:00",
                    "2025-03-17T00:00:00",
                    "2025-03-17T00:00:00",
                    "2025-03-17T00:00:00",
                    "2025-03-18T00:00:00",
                    "2025-03-18T00:00:00",
                    "2025-03-18T00:00:00",
                    "2025-03-19T00:00:00",
                    "2025-03-19T00:00:00",
                    "2025-03-19T00:00:00",
                    "2025-03-20T00:00:00",
                    "2025-03-20T00:00:00",
                    "2025-03-20T00:00:00",
                    "2025-03-21T00:00:00",
                    "2025-03-21T00:00:00",
                    "2025-03-21T00:00:00",
                    "2025-03-24T00:00:00",
                    "2025-03-24T00:00:00",
                    "2025-03-24T00:00:00",
                    "2025-03-25T00:00:00",
                    "2025-03-25T00:00:00",
                    "2025-03-25T00:00:00",
                    "2025-03-26T00:00:00",
                    "2025-03-26T00:00:00",
                    "2025-03-26T00:00:00",
                    "2025-03-27T00:00:00",
                    "2025-03-27T00:00:00",
                    "2025-03-27T00:00:00",
                    "2025-03-28T00:00:00",
                    "2025-03-28T00:00:00",
                    "2025-03-28T00:00:00",
                    "2025-03-31T00:00:00",
                    "2025-03-31T00:00:00",
                    "2025-03-31T00:00:00",
                    "2025-04-01T00:00:00",
                    "2025-04-01T00:00:00",
                    "2025-04-01T00:00:00",
                    "2025-04-02T00:00:00",
                    "2025-04-02T00:00:00",
                    "2025-04-02T00:00:00",
                    "2025-04-03T00:00:00",
                    "2025-04-03T00:00:00",
                    "2025-04-03T00:00:00",
                    "2025-04-04T00:00:00",
                    "2025-04-04T00:00:00",
                    "2025-04-04T00:00:00",
                    "2025-04-07T00:00:00",
                    "2025-04-07T00:00:00",
                    "2025-04-07T00:00:00",
                    "2025-04-08T00:00:00",
                    "2025-04-08T00:00:00",
                    "2025-04-08T00:00:00",
                    "2025-04-09T00:00:00",
                    "2025-04-09T00:00:00",
                    "2025-04-09T00:00:00",
                    "2025-04-10T00:00:00",
                    "2025-04-10T00:00:00",
                    "2025-04-10T00:00:00",
                    "2025-04-11T00:00:00",
                    "2025-04-11T00:00:00",
                    "2025-04-11T00:00:00"
                  ]
                },
                {
                  "marker": {
                    "color": "orange",
                    "size": 8
                  },
                  "mode": "markers",
                  "name": "Doji",
                  "type": "scatter",
                  "x": [
                    "2025-01-13T00:00:00",
                    "2025-01-13T00:00:00",
                    "2025-01-16T00:00:00",
                    "2025-01-17T00:00:00",
                    "2025-01-21T00:00:00",
                    "2025-01-22T00:00:00",
                    "2025-01-23T00:00:00",
                    "2025-01-24T00:00:00",
                    "2025-01-27T00:00:00",
                    "2025-01-29T00:00:00",
                    "2025-02-07T00:00:00",
                    "2025-02-10T00:00:00",
                    "2025-02-17T00:00:00",
                    "2025-02-17T00:00:00",
                    "2025-02-19T00:00:00",
                    "2025-02-24T00:00:00",
                    "2025-02-24T00:00:00",
                    "2025-02-26T00:00:00",
                    "2025-03-03T00:00:00",
                    "2025-03-04T00:00:00",
                    "2025-03-06T00:00:00",
                    "2025-03-06T00:00:00",
                    "2025-03-07T00:00:00",
                    "2025-03-10T00:00:00",
                    "2025-03-11T00:00:00",
                    "2025-03-18T00:00:00",
                    "2025-03-19T00:00:00",
                    "2025-03-28T00:00:00",
                    "2025-03-31T00:00:00",
                    "2025-03-31T00:00:00",
                    "2025-03-31T00:00:00",
                    "2025-04-02T00:00:00",
                    "2025-04-07T00:00:00",
                    "2025-04-09T00:00:00",
                    "2025-04-11T00:00:00"
                  ],
                  "y": [
                    1.025,
                    51.8342,
                    52.0448,
                    50.35,
                    52.4817,
                    50.35,
                    52.5475,
                    50.24,
                    50.2975,
                    50.2515,
                    50.25,
                    50.33,
                    1.05062,
                    53.1824,
                    50.7675,
                    50.635,
                    53.31,
                    50.59,
                    50.661,
                    50.68,
                    1.08537,
                    54.9523,
                    50.64,
                    1.08747,
                    50.63,
                    50.58,
                    55.4524,
                    50.52,
                    1.08494,
                    50.52,
                    54.8112,
                    50.52,
                    1.105,
                    1.10952,
                    51.29
                  ]
                },
                {
                  "marker": {
                    "color": "green",
                    "size": 8
                  },
                  "mode": "markers",
                  "name": "Hammer",
                  "type": "scatter",
                  "x": [
                    "2025-01-13T00:00:00",
                    "2025-01-13T00:00:00",
                    "2025-01-17T00:00:00",
                    "2025-01-21T00:00:00",
                    "2025-01-21T00:00:00",
                    "2025-01-24T00:00:00",
                    "2025-01-29T00:00:00",
                    "2025-02-04T00:00:00",
                    "2025-02-04T00:00:00",
                    "2025-02-07T00:00:00",
                    "2025-02-26T00:00:00",
                    "2025-03-28T00:00:00",
                    "2025-03-31T00:00:00",
                    "2025-04-02T00:00:00"
                  ],
                  "y": [
                    1.025,
                    51.8342,
                    50.35,
                    52.4817,
                    1.04353,
                    50.24,
                    1.04436,
                    52.3146,
                    1.03876,
                    50.25,
                    50.59,
                    50.52,
                    50.52,
                    50.52
                  ]
                },
                {
                  "marker": {
                    "color": "blue",
                    "size": 8
                  },
                  "mode": "markers",
                  "name": "Inv Hammer",
                  "type": "scatter",
                  "x": [
                    "2025-01-09T00:00:00",
                    "2025-01-15T00:00:00",
                    "2025-01-27T00:00:00",
                    "2025-01-27T00:00:00",
                    "2025-01-29T00:00:00",
                    "2025-01-30T00:00:00",
                    "2025-01-30T00:00:00",
                    "2025-02-10T00:00:00",
                    "2025-02-13T00:00:00",
                    "2025-02-19T00:00:00",
                    "2025-02-24T00:00:00",
                    "2025-02-24T00:00:00",
                    "2025-02-25T00:00:00",
                    "2025-03-06T00:00:00",
                    "2025-03-06T00:00:00",
                    "2025-03-07T00:00:00",
                    "2025-03-11T00:00:00",
                    "2025-03-18T00:00:00",
                    "2025-03-25T00:00:00",
                    "2025-03-26T00:00:00",
                    "2025-03-27T00:00:00",
                    "2025-04-02T00:00:00",
                    "2025-04-02T00:00:00",
                    "2025-04-03T00:00:00",
                    "2025-04-07T00:00:00",
                    "2025-04-07T00:00:00",
                    "2025-04-09T00:00:00",
                    "2025-04-11T00:00:00"
                  ],
                  "y": [
                    50.63,
                    50.5,
                    52.9804,
                    50.2975,
                    50.2515,
                    50.23,
                    52.5803,
                    50.33,
                    50.67,
                    50.7675,
                    53.31,
                    1.05283,
                    50.63,
                    1.08537,
                    54.9523,
                    50.64,
                    50.63,
                    50.58,
                    50.6275,
                    50.6275,
                    50.65,
                    55.1896,
                    1.09243,
                    50.64,
                    57.0954,
                    1.105,
                    1.10952,
                    51.29
                  ]
                },
                {
                  "marker": {
                    "color": "lime",
                    "size": 8
                  },
                  "mode": "markers",
                  "name": "Bull Engulfing",
                  "type": "scatter",
                  "x": [],
                  "y": []
                },
                {
                  "marker": {
                    "color": "red",
                    "size": 8
                  },
                  "mode": "markers",
                  "name": "Bear Engulfing",
                  "type": "scatter",
                  "x": [],
                  "y": []
                }
              ],
              "layout": {
                "height": 700,
                "template": {
                  "data": {
                    "bar": [
                      {
                        "error_x": {
                          "color": "#2a3f5f"
                        },
                        "error_y": {
                          "color": "#2a3f5f"
                        },
                        "marker": {
                          "line": {
                            "color": "#E5ECF6",
                            "width": 0.5
                          },
                          "pattern": {
                            "fillmode": "overlay",
                            "size": 10,
                            "solidity": 0.2
                          }
                        },
                        "type": "bar"
                      }
                    ],
                    "barpolar": [
                      {
                        "marker": {
                          "line": {
                            "color": "#E5ECF6",
                            "width": 0.5
                          },
                          "pattern": {
                            "fillmode": "overlay",
                            "size": 10,
                            "solidity": 0.2
                          }
                        },
                        "type": "barpolar"
                      }
                    ],
                    "carpet": [
                      {
                        "aaxis": {
                          "endlinecolor": "#2a3f5f",
                          "gridcolor": "white",
                          "linecolor": "white",
                          "minorgridcolor": "white",
                          "startlinecolor": "#2a3f5f"
                        },
                        "baxis": {
                          "endlinecolor": "#2a3f5f",
                          "gridcolor": "white",
                          "linecolor": "white",
                          "minorgridcolor": "white",
                          "startlinecolor": "#2a3f5f"
                        },
                        "type": "carpet"
                      }
                    ],
                    "choropleth": [
                      {
                        "colorbar": {
                          "outlinewidth": 0,
                          "ticks": ""
                        },
                        "type": "choropleth"
                      }
                    ],
                    "contour": [
                      {
                        "colorbar": {
                          "outlinewidth": 0,
                          "ticks": ""
                        },
                        "colorscale": [
                          [
                            0,
                            "#0d0887"
                          ],
                          [
                            0.1111111111111111,
                            "#46039f"
                          ],
                          [
                            0.2222222222222222,
                            "#7201a8"
                          ],
                          [
                            0.3333333333333333,
                            "#9c179e"
                          ],
                          [
                            0.4444444444444444,
                            "#bd3786"
                          ],
                          [
                            0.5555555555555556,
                            "#d8576b"
                          ],
                          [
                            0.6666666666666666,
                            "#ed7953"
                          ],
                          [
                            0.7777777777777778,
                            "#fb9f3a"
                          ],
                          [
                            0.8888888888888888,
                            "#fdca26"
                          ],
                          [
                            1,
                            "#f0f921"
                          ]
                        ],
                        "type": "contour"
                      }
                    ],
                    "contourcarpet": [
                      {
                        "colorbar": {
                          "outlinewidth": 0,
                          "ticks": ""
                        },
                        "type": "contourcarpet"
                      }
                    ],
                    "heatmap": [
                      {
                        "colorbar": {
                          "outlinewidth": 0,
                          "ticks": ""
                        },
                        "colorscale": [
                          [
                            0,
                            "#0d0887"
                          ],
                          [
                            0.1111111111111111,
                            "#46039f"
                          ],
                          [
                            0.2222222222222222,
                            "#7201a8"
                          ],
                          [
                            0.3333333333333333,
                            "#9c179e"
                          ],
                          [
                            0.4444444444444444,
                            "#bd3786"
                          ],
                          [
                            0.5555555555555556,
                            "#d8576b"
                          ],
                          [
                            0.6666666666666666,
                            "#ed7953"
                          ],
                          [
                            0.7777777777777778,
                            "#fb9f3a"
                          ],
                          [
                            0.8888888888888888,
                            "#fdca26"
                          ],
                          [
                            1,
                            "#f0f921"
                          ]
                        ],
                        "type": "heatmap"
                      }
                    ],
                    "heatmapgl": [
                      {
                        "colorbar": {
                          "outlinewidth": 0,
                          "ticks": ""
                        },
                        "colorscale": [
                          [
                            0,
                            "#0d0887"
                          ],
                          [
                            0.1111111111111111,
                            "#46039f"
                          ],
                          [
                            0.2222222222222222,
                            "#7201a8"
                          ],
                          [
                            0.3333333333333333,
                            "#9c179e"
                          ],
                          [
                            0.4444444444444444,
                            "#bd3786"
                          ],
                          [
                            0.5555555555555556,
                            "#d8576b"
                          ],
                          [
                            0.6666666666666666,
                            "#ed7953"
                          ],
                          [
                            0.7777777777777778,
                            "#fb9f3a"
                          ],
                          [
                            0.8888888888888888,
                            "#fdca26"
                          ],
                          [
                            1,
                            "#f0f921"
                          ]
                        ],
                        "type": "heatmapgl"
                      }
                    ],
                    "histogram": [
                      {
                        "marker": {
                          "pattern": {
                            "fillmode": "overlay",
                            "size": 10,
                            "solidity": 0.2
                          }
                        },
                        "type": "histogram"
                      }
                    ],
                    "histogram2d": [
                      {
                        "colorbar": {
                          "outlinewidth": 0,
                          "ticks": ""
                        },
                        "colorscale": [
                          [
                            0,
                            "#0d0887"
                          ],
                          [
                            0.1111111111111111,
                            "#46039f"
                          ],
                          [
                            0.2222222222222222,
                            "#7201a8"
                          ],
                          [
                            0.3333333333333333,
                            "#9c179e"
                          ],
                          [
                            0.4444444444444444,
                            "#bd3786"
                          ],
                          [
                            0.5555555555555556,
                            "#d8576b"
                          ],
                          [
                            0.6666666666666666,
                            "#ed7953"
                          ],
                          [
                            0.7777777777777778,
                            "#fb9f3a"
                          ],
                          [
                            0.8888888888888888,
                            "#fdca26"
                          ],
                          [
                            1,
                            "#f0f921"
                          ]
                        ],
                        "type": "histogram2d"
                      }
                    ],
                    "histogram2dcontour": [
                      {
                        "colorbar": {
                          "outlinewidth": 0,
                          "ticks": ""
                        },
                        "colorscale": [
                          [
                            0,
                            "#0d0887"
                          ],
                          [
                            0.1111111111111111,
                            "#46039f"
                          ],
                          [
                            0.2222222222222222,
                            "#7201a8"
                          ],
                          [
                            0.3333333333333333,
                            "#9c179e"
                          ],
                          [
                            0.4444444444444444,
                            "#bd3786"
                          ],
                          [
                            0.5555555555555556,
                            "#d8576b"
                          ],
                          [
                            0.6666666666666666,
                            "#ed7953"
                          ],
                          [
                            0.7777777777777778,
                            "#fb9f3a"
                          ],
                          [
                            0.8888888888888888,
                            "#fdca26"
                          ],
                          [
                            1,
                            "#f0f921"
                          ]
                        ],
                        "type": "histogram2dcontour"
                      }
                    ],
                    "mesh3d": [
                      {
                        "colorbar": {
                          "outlinewidth": 0,
                          "ticks": ""
                        },
                        "type": "mesh3d"
                      }
                    ],
                    "parcoords": [
                      {
                        "line": {
                          "colorbar": {
                            "outlinewidth": 0,
                            "ticks": ""
                          }
                        },
                        "type": "parcoords"
                      }
                    ],
                    "pie": [
                      {
                        "automargin": true,
                        "type": "pie"
                      }
                    ],
                    "scatter": [
                      {
                        "fillpattern": {
                          "fillmode": "overlay",
                          "size": 10,
                          "solidity": 0.2
                        },
                        "type": "scatter"
                      }
                    ],
                    "scatter3d": [
                      {
                        "line": {
                          "colorbar": {
                            "outlinewidth": 0,
                            "ticks": ""
                          }
                        },
                        "marker": {
                          "colorbar": {
                            "outlinewidth": 0,
                            "ticks": ""
                          }
                        },
                        "type": "scatter3d"
                      }
                    ],
                    "scattercarpet": [
                      {
                        "marker": {
                          "colorbar": {
                            "outlinewidth": 0,
                            "ticks": ""
                          }
                        },
                        "type": "scattercarpet"
                      }
                    ],
                    "scattergeo": [
                      {
                        "marker": {
                          "colorbar": {
                            "outlinewidth": 0,
                            "ticks": ""
                          }
                        },
                        "type": "scattergeo"
                      }
                    ],
                    "scattergl": [
                      {
                        "marker": {
                          "colorbar": {
                            "outlinewidth": 0,
                            "ticks": ""
                          }
                        },
                        "type": "scattergl"
                      }
                    ],
                    "scattermapbox": [
                      {
                        "marker": {
                          "colorbar": {
                            "outlinewidth": 0,
                            "ticks": ""
                          }
                        },
                        "type": "scattermapbox"
                      }
                    ],
                    "scatterpolar": [
                      {
                        "marker": {
                          "colorbar": {
                            "outlinewidth": 0,
                            "ticks": ""
                          }
                        },
                        "type": "scatterpolar"
                      }
                    ],
                    "scatterpolargl": [
                      {
                        "marker": {
                          "colorbar": {
                            "outlinewidth": 0,
                            "ticks": ""
                          }
                        },
                        "type": "scatterpolargl"
                      }
                    ],
                    "scatterternary": [
                      {
                        "marker": {
                          "colorbar": {
                            "outlinewidth": 0,
                            "ticks": ""
                          }
                        },
                        "type": "scatterternary"
                      }
                    ],
                    "surface": [
                      {
                        "colorbar": {
                          "outlinewidth": 0,
                          "ticks": ""
                        },
                        "colorscale": [
                          [
                            0,
                            "#0d0887"
                          ],
                          [
                            0.1111111111111111,
                            "#46039f"
                          ],
                          [
                            0.2222222222222222,
                            "#7201a8"
                          ],
                          [
                            0.3333333333333333,
                            "#9c179e"
                          ],
                          [
                            0.4444444444444444,
                            "#bd3786"
                          ],
                          [
                            0.5555555555555556,
                            "#d8576b"
                          ],
                          [
                            0.6666666666666666,
                            "#ed7953"
                          ],
                          [
                            0.7777777777777778,
                            "#fb9f3a"
                          ],
                          [
                            0.8888888888888888,
                            "#fdca26"
                          ],
                          [
                            1,
                            "#f0f921"
                          ]
                        ],
                        "type": "surface"
                      }
                    ],
                    "table": [
                      {
                        "cells": {
                          "fill": {
                            "color": "#EBF0F8"
                          },
                          "line": {
                            "color": "white"
                          }
                        },
                        "header": {
                          "fill": {
                            "color": "#C8D4E3"
                          },
                          "line": {
                            "color": "white"
                          }
                        },
                        "type": "table"
                      }
                    ]
                  },
                  "layout": {
                    "annotationdefaults": {
                      "arrowcolor": "#2a3f5f",
                      "arrowhead": 0,
                      "arrowwidth": 1
                    },
                    "autotypenumbers": "strict",
                    "coloraxis": {
                      "colorbar": {
                        "outlinewidth": 0,
                        "ticks": ""
                      }
                    },
                    "colorscale": {
                      "diverging": [
                        [
                          0,
                          "#8e0152"
                        ],
                        [
                          0.1,
                          "#c51b7d"
                        ],
                        [
                          0.2,
                          "#de77ae"
                        ],
                        [
                          0.3,
                          "#f1b6da"
                        ],
                        [
                          0.4,
                          "#fde0ef"
                        ],
                        [
                          0.5,
                          "#f7f7f7"
                        ],
                        [
                          0.6,
                          "#e6f5d0"
                        ],
                        [
                          0.7,
                          "#b8e186"
                        ],
                        [
                          0.8,
                          "#7fbc41"
                        ],
                        [
                          0.9,
                          "#4d9221"
                        ],
                        [
                          1,
                          "#276419"
                        ]
                      ],
                      "sequential": [
                        [
                          0,
                          "#0d0887"
                        ],
                        [
                          0.1111111111111111,
                          "#46039f"
                        ],
                        [
                          0.2222222222222222,
                          "#7201a8"
                        ],
                        [
                          0.3333333333333333,
                          "#9c179e"
                        ],
                        [
                          0.4444444444444444,
                          "#bd3786"
                        ],
                        [
                          0.5555555555555556,
                          "#d8576b"
                        ],
                        [
                          0.6666666666666666,
                          "#ed7953"
                        ],
                        [
                          0.7777777777777778,
                          "#fb9f3a"
                        ],
                        [
                          0.8888888888888888,
                          "#fdca26"
                        ],
                        [
                          1,
                          "#f0f921"
                        ]
                      ],
                      "sequentialminus": [
                        [
                          0,
                          "#0d0887"
                        ],
                        [
                          0.1111111111111111,
                          "#46039f"
                        ],
                        [
                          0.2222222222222222,
                          "#7201a8"
                        ],
                        [
                          0.3333333333333333,
                          "#9c179e"
                        ],
                        [
                          0.4444444444444444,
                          "#bd3786"
                        ],
                        [
                          0.5555555555555556,
                          "#d8576b"
                        ],
                        [
                          0.6666666666666666,
                          "#ed7953"
                        ],
                        [
                          0.7777777777777778,
                          "#fb9f3a"
                        ],
                        [
                          0.8888888888888888,
                          "#fdca26"
                        ],
                        [
                          1,
                          "#f0f921"
                        ]
                      ]
                    },
                    "colorway": [
                      "#636efa",
                      "#EF553B",
                      "#00cc96",
                      "#ab63fa",
                      "#FFA15A",
                      "#19d3f3",
                      "#FF6692",
                      "#B6E880",
                      "#FF97FF",
                      "#FECB52"
                    ],
                    "font": {
                      "color": "#2a3f5f"
                    },
                    "geo": {
                      "bgcolor": "white",
                      "lakecolor": "white",
                      "landcolor": "#E5ECF6",
                      "showlakes": true,
                      "showland": true,
                      "subunitcolor": "white"
                    },
                    "hoverlabel": {
                      "align": "left"
                    },
                    "hovermode": "closest",
                    "mapbox": {
                      "style": "light"
                    },
                    "paper_bgcolor": "white",
                    "plot_bgcolor": "#E5ECF6",
                    "polar": {
                      "angularaxis": {
                        "gridcolor": "white",
                        "linecolor": "white",
                        "ticks": ""
                      },
                      "bgcolor": "#E5ECF6",
                      "radialaxis": {
                        "gridcolor": "white",
                        "linecolor": "white",
                        "ticks": ""
                      }
                    },
                    "scene": {
                      "xaxis": {
                        "backgroundcolor": "#E5ECF6",
                        "gridcolor": "white",
                        "gridwidth": 2,
                        "linecolor": "white",
                        "showbackground": true,
                        "ticks": "",
                        "zerolinecolor": "white"
                      },
                      "yaxis": {
                        "backgroundcolor": "#E5ECF6",
                        "gridcolor": "white",
                        "gridwidth": 2,
                        "linecolor": "white",
                        "showbackground": true,
                        "ticks": "",
                        "zerolinecolor": "white"
                      },
                      "zaxis": {
                        "backgroundcolor": "#E5ECF6",
                        "gridcolor": "white",
                        "gridwidth": 2,
                        "linecolor": "white",
                        "showbackground": true,
                        "ticks": "",
                        "zerolinecolor": "white"
                      }
                    },
                    "shapedefaults": {
                      "line": {
                        "color": "#2a3f5f"
                      }
                    },
                    "ternary": {
                      "aaxis": {
                        "gridcolor": "white",
                        "linecolor": "white",
                        "ticks": ""
                      },
                      "baxis": {
                        "gridcolor": "white",
                        "linecolor": "white",
                        "ticks": ""
                      },
                      "bgcolor": "#E5ECF6",
                      "caxis": {
                        "gridcolor": "white",
                        "linecolor": "white",
                        "ticks": ""
                      }
                    },
                    "title": {
                      "x": 0.05
                    },
                    "xaxis": {
                      "automargin": true,
                      "gridcolor": "white",
                      "linecolor": "white",
                      "ticks": "",
                      "title": {
                        "standoff": 15
                      },
                      "zerolinecolor": "white",
                      "zerolinewidth": 2
                    },
                    "yaxis": {
                      "automargin": true,
                      "gridcolor": "white",
                      "linecolor": "white",
                      "ticks": "",
                      "title": {
                        "standoff": 15
                      },
                      "zerolinecolor": "white",
                      "zerolinewidth": 2
                    }
                  }
                },
                "title": {
                  "text": "Forex Candlestick Patterns with ML Features"
                },
                "xaxis": {
                  "rangeslider": {
                    "thickness": 0.1,
                    "visible": true
                  },
                  "title": {
                    "text": "Date"
                  },
                  "type": "date"
                },
                "yaxis": {
                  "title": {
                    "text": "Price"
                  }
                }
              }
            }
          },
          "metadata": {},
          "output_type": "display_data"
        }
      ],
      "source": [
        "import plotly.graph_objects as go\n",
        "\n",
        "# Step 6: Visualization\n",
        "plot_df = df[-200:].copy()\n",
        "\n",
        "fig = go.Figure(data=[\n",
        "    go.Candlestick(\n",
        "        x=plot_df['DATE'],\n",
        "        open=plot_df['Open'],  \n",
        "        high=plot_df['High'],\n",
        "        close=plot_df['Close'], \n",
        "        name=\"OHLC\"\n",
        "    )\n",
        "])\n",
        "# Add markers for patterns\n",
        "def add_marker(condition, name, color, y_offset=0):\n",
        "    dates = plot_df[condition]['DATE']\n",
        "    prices = plot_df[condition]['High'] + y_offset  \n",
        "    fig.add_trace(go.Scatter(\n",
        "        x=dates,\n",
        "        y=prices,\n",
        "        mode='markers',\n",
        "        marker=dict(size=8, color=color),\n",
        "        name=name\n",
        "    ))\n",
        "\n",
        "add_marker(plot_df['IS_DOJI'] == 1, 'Doji', 'orange')\n",
        "add_marker(plot_df['IS_HAMMER'] == 1, 'Hammer', 'green')\n",
        "add_marker(plot_df['IS_INV_HAMMER'] == 1, 'Inv Hammer', 'blue')\n",
        "add_marker(plot_df['BULLISH_ENGULFING'] == 1, 'Bull Engulfing', 'lime')\n",
        "add_marker(plot_df['BEARISH_ENGULFING'] == 1, 'Bear Engulfing', 'red')\n",
        "\n",
        "fig.update_layout(\n",
        "    title='Forex Candlestick Patterns with ML Features',\n",
        "    xaxis_title='Date',\n",
        "    yaxis_title='Price',\n",
        "    xaxis_rangeslider_visible=True,  \n",
        "    xaxis_rangeslider_thickness=0.1,  \n",
        "    xaxis=dict(\n",
        "        rangeslider=dict(visible=True),\n",
        "        type='date'  \n",
        "    ),\n",
        "    height=700\n",
        ")\n",
        "\n",
        "fig.show()"
      ]
    },
    {
      "cell_type": "code",
      "execution_count": 50,
      "metadata": {
        "id": "pXs-bpZZ7vKT"
      },
      "outputs": [],
      "source": [
        "# Drop non-numeric and irrelevant columns before training\n",
        "exclude_cols = ['DATE', 'TARGET', 'CURRENCY_PAIR'] if 'CURRENCY_PAIR' in df.columns else ['DATE', 'TARGET']\n",
        "features = [col for col in df.columns if col not in exclude_cols]"
      ]
    },
    {
      "cell_type": "code",
      "execution_count": 51,
      "metadata": {
        "id": "yjI9Ftqi69uv"
      },
      "outputs": [],
      "source": [
        "# Step 4: Create Target Variable\n",
        "df['TARGET'] = (df['Close'].shift(-1) > df['Close']).astype(int)\n",
        "df.dropna(inplace=True)"
      ]
    },
    {
      "cell_type": "code",
      "execution_count": 53,
      "metadata": {
        "id": "0ovbuYLN-P-q"
      },
      "outputs": [],
      "source": [
        "# Drop rows with NaNs (just in case)\n",
        "df.dropna(inplace=True)\n",
        "\n",
        "non_numeric_cols = df.select_dtypes(include=['datetime64[ns]', 'object']).columns.tolist()\n",
        "non_features = non_numeric_cols + ['TARGET']\n",
        "features = [col for col in df.columns if col not in non_features]\n",
        "\n",
        "X = df[features].select_dtypes(include=[np.number])\n",
        "y = df['TARGET']"
      ]
    },
    {
      "cell_type": "code",
      "execution_count": 54,
      "metadata": {
        "id": "4gyXsIS77LeM"
      },
      "outputs": [],
      "source": [
        "# Split data\n",
        "split_idx = int(len(df) * 0.8)\n",
        "X_train, X_test = X.iloc[:split_idx], X.iloc[split_idx:]\n",
        "y_train, y_test = y.iloc[:split_idx], y.iloc[split_idx:]\n"
      ]
    },
    {
      "cell_type": "code",
      "execution_count": 55,
      "metadata": {
        "id": "YmKgViwz7Lbn"
      },
      "outputs": [],
      "source": [
        "# Time-based split\n",
        "split_idx = int(len(df) * 0.8)\n",
        "X_train, X_test = X.iloc[:split_idx], X.iloc[split_idx:]\n",
        "y_train, y_test = y.iloc[:split_idx], y.iloc[split_idx:]"
      ]
    },
    {
      "cell_type": "code",
      "execution_count": 56,
      "metadata": {
        "colab": {
          "base_uri": "https://localhost:8080/",
          "height": 219
        },
        "id": "hyHWsdqw7LZB",
        "outputId": "f6d46407-310f-457b-8e0a-e74e6e6f688e"
      },
      "outputs": [
        {
          "name": "stdout",
          "output_type": "stream",
          "text": [
            "[LightGBM] [Info] Number of positive: 4130, number of negative: 4174\n",
            "[LightGBM] [Info] Auto-choosing col-wise multi-threading, the overhead of testing was 0.001508 seconds.\n",
            "You can set `force_col_wise=true` to remove the overhead.\n",
            "[LightGBM] [Info] Total Bins 7159\n",
            "[LightGBM] [Info] Number of data points in the train set: 8304, number of used features: 36\n",
            "[LightGBM] [Info] [binary:BoostFromScore]: pavg=0.497351 -> initscore=-0.010597\n",
            "[LightGBM] [Info] Start training from score -0.010597\n"
          ]
        },
        {
          "data": {
            "text/html": [
              "<style>#sk-container-id-2 {color: black;background-color: white;}#sk-container-id-2 pre{padding: 0;}#sk-container-id-2 div.sk-toggleable {background-color: white;}#sk-container-id-2 label.sk-toggleable__label {cursor: pointer;display: block;width: 100%;margin-bottom: 0;padding: 0.3em;box-sizing: border-box;text-align: center;}#sk-container-id-2 label.sk-toggleable__label-arrow:before {content: \"▸\";float: left;margin-right: 0.25em;color: #696969;}#sk-container-id-2 label.sk-toggleable__label-arrow:hover:before {color: black;}#sk-container-id-2 div.sk-estimator:hover label.sk-toggleable__label-arrow:before {color: black;}#sk-container-id-2 div.sk-toggleable__content {max-height: 0;max-width: 0;overflow: hidden;text-align: left;background-color: #f0f8ff;}#sk-container-id-2 div.sk-toggleable__content pre {margin: 0.2em;color: black;border-radius: 0.25em;background-color: #f0f8ff;}#sk-container-id-2 input.sk-toggleable__control:checked~div.sk-toggleable__content {max-height: 200px;max-width: 100%;overflow: auto;}#sk-container-id-2 input.sk-toggleable__control:checked~label.sk-toggleable__label-arrow:before {content: \"▾\";}#sk-container-id-2 div.sk-estimator input.sk-toggleable__control:checked~label.sk-toggleable__label {background-color: #d4ebff;}#sk-container-id-2 div.sk-label input.sk-toggleable__control:checked~label.sk-toggleable__label {background-color: #d4ebff;}#sk-container-id-2 input.sk-hidden--visually {border: 0;clip: rect(1px 1px 1px 1px);clip: rect(1px, 1px, 1px, 1px);height: 1px;margin: -1px;overflow: hidden;padding: 0;position: absolute;width: 1px;}#sk-container-id-2 div.sk-estimator {font-family: monospace;background-color: #f0f8ff;border: 1px dotted black;border-radius: 0.25em;box-sizing: border-box;margin-bottom: 0.5em;}#sk-container-id-2 div.sk-estimator:hover {background-color: #d4ebff;}#sk-container-id-2 div.sk-parallel-item::after {content: \"\";width: 100%;border-bottom: 1px solid gray;flex-grow: 1;}#sk-container-id-2 div.sk-label:hover label.sk-toggleable__label {background-color: #d4ebff;}#sk-container-id-2 div.sk-serial::before {content: \"\";position: absolute;border-left: 1px solid gray;box-sizing: border-box;top: 0;bottom: 0;left: 50%;z-index: 0;}#sk-container-id-2 div.sk-serial {display: flex;flex-direction: column;align-items: center;background-color: white;padding-right: 0.2em;padding-left: 0.2em;position: relative;}#sk-container-id-2 div.sk-item {position: relative;z-index: 1;}#sk-container-id-2 div.sk-parallel {display: flex;align-items: stretch;justify-content: center;background-color: white;position: relative;}#sk-container-id-2 div.sk-item::before, #sk-container-id-2 div.sk-parallel-item::before {content: \"\";position: absolute;border-left: 1px solid gray;box-sizing: border-box;top: 0;bottom: 0;left: 50%;z-index: -1;}#sk-container-id-2 div.sk-parallel-item {display: flex;flex-direction: column;z-index: 1;position: relative;background-color: white;}#sk-container-id-2 div.sk-parallel-item:first-child::after {align-self: flex-end;width: 50%;}#sk-container-id-2 div.sk-parallel-item:last-child::after {align-self: flex-start;width: 50%;}#sk-container-id-2 div.sk-parallel-item:only-child::after {width: 0;}#sk-container-id-2 div.sk-dashed-wrapped {border: 1px dashed gray;margin: 0 0.4em 0.5em 0.4em;box-sizing: border-box;padding-bottom: 0.4em;background-color: white;}#sk-container-id-2 div.sk-label label {font-family: monospace;font-weight: bold;display: inline-block;line-height: 1.2em;}#sk-container-id-2 div.sk-label-container {text-align: center;}#sk-container-id-2 div.sk-container {/* jupyter's `normalize.less` sets `[hidden] { display: none; }` but bootstrap.min.css set `[hidden] { display: none !important; }` so we also need the `!important` here to be able to override the default hidden behavior on the sphinx rendered scikit-learn.org. See: https://github.com/scikit-learn/scikit-learn/issues/21755 */display: inline-block !important;position: relative;}#sk-container-id-2 div.sk-text-repr-fallback {display: none;}</style><div id=\"sk-container-id-2\" class=\"sk-top-container\"><div class=\"sk-text-repr-fallback\"><pre>LGBMClassifier(learning_rate=0.05)</pre><b>In a Jupyter environment, please rerun this cell to show the HTML representation or trust the notebook. <br />On GitHub, the HTML representation is unable to render, please try loading this page with nbviewer.org.</b></div><div class=\"sk-container\" hidden><div class=\"sk-item\"><div class=\"sk-estimator sk-toggleable\"><input class=\"sk-toggleable__control sk-hidden--visually\" id=\"sk-estimator-id-2\" type=\"checkbox\" checked><label for=\"sk-estimator-id-2\" class=\"sk-toggleable__label sk-toggleable__label-arrow\">LGBMClassifier</label><div class=\"sk-toggleable__content\"><pre>LGBMClassifier(learning_rate=0.05)</pre></div></div></div></div></div>"
            ],
            "text/plain": [
              "LGBMClassifier(learning_rate=0.05)"
            ]
          },
          "execution_count": 56,
          "metadata": {},
          "output_type": "execute_result"
        }
      ],
      "source": [
        "# Train LightGBM model\n",
        "model = lgb.LGBMClassifier(n_estimators=100, learning_rate=0.05)\n",
        "model.fit(X_train, y_train)"
      ]
    },
    {
      "cell_type": "code",
      "execution_count": 57,
      "metadata": {
        "colab": {
          "base_uri": "https://localhost:8080/"
        },
        "id": "pmvb86NF8G2J",
        "outputId": "69831dc8-a3e2-4c5e-c265-ef205e842054"
      },
      "outputs": [
        {
          "name": "stdout",
          "output_type": "stream",
          "text": [
            "Model Test Accuracy: 80.40%\n"
          ]
        }
      ],
      "source": [
        "# Evaluation\n",
        "y_pred = model.predict(X_test)\n",
        "acc = accuracy_score(y_test, y_pred)\n",
        "print(f\"Model Test Accuracy: {acc:.2%}\")"
      ]
    },
    {
      "cell_type": "code",
      "execution_count": 58,
      "metadata": {
        "colab": {
          "base_uri": "https://localhost:8080/",
          "height": 764
        },
        "id": "nJBArNea_Q83",
        "outputId": "ffd2ff2e-8d36-43c2-f339-ae52f92aa814"
      },
      "outputs": [
        {
          "name": "stdout",
          "output_type": "stream",
          "text": [
            "[LightGBM] [Info] Number of positive: 4130, number of negative: 4174\n",
            "[LightGBM] [Info] Auto-choosing col-wise multi-threading, the overhead of testing was 0.006128 seconds.\n",
            "You can set `force_col_wise=true` to remove the overhead.\n",
            "[LightGBM] [Info] Total Bins 7159\n",
            "[LightGBM] [Info] Number of data points in the train set: 8304, number of used features: 36\n",
            "[LightGBM] [Info] [binary:BoostFromScore]: pavg=0.497351 -> initscore=-0.010597\n",
            "[LightGBM] [Info] Start training from score -0.010597\n",
            "Accuracy: 0.8040442946557534\n",
            "              precision    recall  f1-score   support\n",
            "\n",
            "           0       0.74      0.95      0.83      1052\n",
            "           1       0.93      0.65      0.77      1025\n",
            "\n",
            "    accuracy                           0.80      2077\n",
            "   macro avg       0.83      0.80      0.80      2077\n",
            "weighted avg       0.83      0.80      0.80      2077\n",
            "\n"
          ]
        },
        {
          "data": {
            "image/png": "[encoded data removed]",
            "text/plain": [
              "<Figure size 640x480 with 2 Axes>"
            ]
          },
          "metadata": {},
          "output_type": "display_data"
        }
      ],
      "source": [
        "import lightgbm as lgb\n",
        "from sklearn.metrics import accuracy_score, classification_report, confusion_matrix\n",
        "import seaborn as sns\n",
        "import matplotlib.pyplot as plt\n",
        "\n",
        "model = lgb.LGBMClassifier(n_estimators=100, learning_rate=0.05)\n",
        "model.fit(X_train, y_train)\n",
        "\n",
        "# Predict\n",
        "y_pred = model.predict(X_test)\n",
        "\n",
        "# Evaluate\n",
        "print(\"Accuracy:\", accuracy_score(y_test, y_pred))\n",
        "print(classification_report(y_test, y_pred))\n",
        "sns.heatmap(confusion_matrix(y_test, y_pred), annot=True, fmt='d', cmap='Blues')\n",
        "plt.title(\"Confusion Matrix\")\n",
        "plt.show()"
      ]
    }
  ],
  "metadata": {
    "colab": {
      "provenance": []
    },
    "kernelspec": {
      "display_name": "base",
      "language": "python",
      "name": "python3"
    },
    "language_info": {
      "codemirror_mode": {
        "name": "ipython",
        "version": 3
      },
      "file_extension": ".py",
      "mimetype": "text/x-python",
      "name": "python",
      "nbconvert_exporter": "python",
      "pygments_lexer": "ipython3",
      "version": "3.11.3"
    }
  },
  "nbformat": 4,
  "nbformat_minor": 0
}
